{
 "cells": [
  {
   "cell_type": "code",
   "execution_count": 24,
   "metadata": {},
   "outputs": [],
   "source": [
    "import numpy as np\n",
    "from dca import synth_data\n",
    "from dca.dca import DynamicalComponentsAnalysis as DCA\n",
    "\n",
    "from dca_research import pf_dca\n",
    "from imp import reload"
   ]
  },
  {
   "cell_type": "code",
   "execution_count": 46,
   "metadata": {},
   "outputs": [],
   "source": [
    "X = synth_data.gen_lorenz_data(100000)"
   ]
  },
  {
   "cell_type": "code",
   "execution_count": 48,
   "metadata": {},
   "outputs": [
    {
     "name": "stdout",
     "output_type": "stream",
     "text": [
      "PI: 7.6074 nats, reg: 0.0\n",
      "PI: 7.7635 nats, reg: 0.0171\n",
      "PI: 7.8359 nats, reg: 0.0471\n",
      "PI: 7.9858 nats, reg: 0.0389\n",
      "PI: 8.0989 nats, reg: 0.0082\n",
      "PI: 8.2 nats, reg: 0.0029\n",
      "PI: 8.2301 nats, reg: 0.0259\n",
      "PI: 8.2642 nats, reg: 0.0412\n",
      "PI: 8.3556 nats, reg: 0.0637\n",
      "PI: 8.4973 nats, reg: 0.0194\n",
      "PI: 8.5584 nats, reg: 0.0355\n",
      "PI: 8.7113 nats, reg: 0.064\n",
      "PI: 8.9451 nats, reg: 0.1264\n",
      "PI: 9.068 nats, reg: 0.0956\n",
      "PI: 9.1257 nats, reg: 0.0136\n",
      "PI: 9.1614 nats, reg: 0.0004\n",
      "PI: 9.1672 nats, reg: 0.0\n",
      "PI: 9.171 nats, reg: 0.0\n",
      "PI: 9.1716 nats, reg: 0.0\n",
      "PI: 9.1716 nats, reg: 0.0\n",
      "PI: 8.0141 nats, reg: 0.0\n",
      "PI: 8.0948 nats, reg: 0.0123\n",
      "PI: 8.1238 nats, reg: 0.0293\n",
      "PI: 8.2014 nats, reg: 0.0168\n",
      "PI: 8.2783 nats, reg: 0.0006\n",
      "PI: 8.316 nats, reg: 0.0129\n",
      "PI: 8.3598 nats, reg: 0.0229\n",
      "PI: 8.4548 nats, reg: 0.075\n",
      "PI: 8.627 nats, reg: 0.0071\n",
      "PI: 8.7116 nats, reg: 0.0395\n",
      "PI: 8.7905 nats, reg: 0.0916\n",
      "PI: 8.9381 nats, reg: 0.1531\n",
      "PI: 9.1178 nats, reg: 0.0012\n",
      "PI: 9.1406 nats, reg: 0.0094\n",
      "PI: 9.1715 nats, reg: 0.0\n",
      "PI: 9.1716 nats, reg: 0.0\n",
      "PI: 9.1716 nats, reg: 0.0\n",
      "PI: 8.0296 nats, reg: 0.0\n",
      "PI: 8.7206 nats, reg: 0.0459\n",
      "PI: 9.0614 nats, reg: 0.0692\n",
      "PI: 9.111 nats, reg: 0.0578\n",
      "PI: 9.167 nats, reg: 0.0\n",
      "PI: 9.1696 nats, reg: 0.0\n",
      "PI: 9.1716 nats, reg: 0.0\n",
      "PI: 9.1716 nats, reg: 0.0\n",
      "PI: 8.0239 nats, reg: 0.0\n",
      "PI: 8.1205 nats, reg: 0.0141\n",
      "PI: 8.1549 nats, reg: 0.0407\n",
      "PI: 8.2454 nats, reg: 0.058\n",
      "PI: 8.4253 nats, reg: 0.013\n",
      "PI: 8.4831 nats, reg: 0.0509\n",
      "PI: 8.6069 nats, reg: 0.1062\n",
      "PI: 8.875 nats, reg: 0.1107\n",
      "PI: 9.1356 nats, reg: 0.0263\n",
      "PI: 9.1661 nats, reg: 0.0036\n",
      "PI: 9.1703 nats, reg: 0.0001\n",
      "PI: 9.1709 nats, reg: 0.0\n",
      "PI: 9.1713 nats, reg: 0.0\n",
      "PI: 9.1716 nats, reg: 0.0\n",
      "PI: 9.1716 nats, reg: 0.0\n",
      "PI: 8.4361 nats, reg: 0.0\n",
      "PI: 8.5989 nats, reg: 0.0184\n",
      "PI: 8.6468 nats, reg: 0.0615\n",
      "PI: 8.7382 nats, reg: 0.1361\n",
      "PI: 8.9295 nats, reg: 0.0934\n",
      "PI: 9.1436 nats, reg: 0.0037\n",
      "PI: 9.1646 nats, reg: 0.0001\n",
      "PI: 9.1687 nats, reg: 0.0\n",
      "PI: 9.1715 nats, reg: 0.0\n",
      "PI: 9.1716 nats, reg: 0.0\n",
      "PI: 9.1716 nats, reg: 0.0\n"
     ]
    },
    {
     "data": {
      "text/plain": [
       "<dca.dca.DynamicalComponentsAnalysis at 0x1c1fdf9198>"
      ]
     },
     "execution_count": 48,
     "metadata": {},
     "output_type": "execute_result"
    }
   ],
   "source": [
    "model1 = DCA(T=3, d=1, verbose=True, n_init=5)\n",
    "model1.fit(X)"
   ]
  },
  {
   "cell_type": "code",
   "execution_count": 52,
   "metadata": {},
   "outputs": [
    {
     "name": "stdout",
     "output_type": "stream",
     "text": [
      "[[-0.99813071]\n",
      " [ 0.05349373]\n",
      " [ 0.02955512]]\n",
      "[[-0.01796673]\n",
      " [-0.83400459]\n",
      " [-0.5514649 ]]\n",
      "[[ 0.15986912]\n",
      " [-0.9870649 ]\n",
      " [ 0.01203101]]\n"
     ]
    }
   ],
   "source": [
    "print(model1.coef_)\n",
    "print(model2.coef_[0])\n",
    "print(model2.coef_[1])"
   ]
  },
  {
   "cell_type": "code",
   "execution_count": 55,
   "metadata": {},
   "outputs": [
    {
     "name": "stdout",
     "output_type": "stream",
     "text": [
      "[[-0.04297948]]\n"
     ]
    }
   ],
   "source": [
    "print(model1.coef_.T.dot(model2.coef_[0]))"
   ]
  },
  {
   "cell_type": "code",
   "execution_count": 56,
   "metadata": {},
   "outputs": [
    {
     "name": "stdout",
     "output_type": "stream",
     "text": [
      "[[-0.21201649]]\n"
     ]
    }
   ],
   "source": [
    "print(model1.coef_.T.dot(model2.coef_[1]))"
   ]
  },
  {
   "cell_type": "code",
   "execution_count": 62,
   "metadata": {},
   "outputs": [
    {
     "name": "stdout",
     "output_type": "stream",
     "text": [
      "PI: -0.9644 nats, reg: 0.0\n",
      "PI: -0.5348 nats, reg: 0.0637\n",
      "PI: -0.513 nats, reg: 0.0438\n",
      "PI: -0.4556 nats, reg: 0.0019\n",
      "PI: -0.4491 nats, reg: 0.0031\n",
      "PI: -0.3833 nats, reg: 0.0221\n",
      "PI: 0.7918 nats, reg: 0.1482\n",
      "PI: 3.8952 nats, reg: 0.138\n",
      "PI: 6.1619 nats, reg: 0.138\n"
     ]
    },
    {
     "data": {
      "text/plain": [
       "<dca_research.pf_dca.PastFutureDynamicalComponentsAnalysis at 0x1c1fdece80>"
      ]
     },
     "execution_count": 62,
     "metadata": {},
     "output_type": "execute_result"
    }
   ],
   "source": [
    "reload(pf_dca)\n",
    "model2 = pf_dca.PastFutureDynamicalComponentsAnalysis(T=3, d=1, verbose=True)\n",
    "model2.fit(X)"
   ]
  },
  {
   "cell_type": "code",
   "execution_count": null,
   "metadata": {},
   "outputs": [],
   "source": []
  }
 ],
 "metadata": {
  "kernelspec": {
   "display_name": "Python 3",
   "language": "python",
   "name": "python3"
  },
  "language_info": {
   "codemirror_mode": {
    "name": "ipython",
    "version": 3
   },
   "file_extension": ".py",
   "mimetype": "text/x-python",
   "name": "python",
   "nbconvert_exporter": "python",
   "pygments_lexer": "ipython3",
   "version": "3.6.8"
  }
 },
 "nbformat": 4,
 "nbformat_minor": 2
}
