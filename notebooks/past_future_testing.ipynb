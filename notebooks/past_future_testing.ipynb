{
 "cells": [
  {
   "cell_type": "code",
   "execution_count": 1,
   "metadata": {},
   "outputs": [],
   "source": [
    "import numpy as np\n",
    "import matplotlib.pyplot as plt\n",
    "from dca import synth_data, cov_util, data_util\n",
    "from dca.dca import DynamicalComponentsAnalysis as DCA\n",
    "from sklearn.cross_decomposition import CCA, PLSSVD\n",
    "import torch\n",
    "\n",
    "from dca_research import pf_dca\n",
    "from imp import reload"
   ]
  },
  {
   "cell_type": "code",
   "execution_count": 45,
   "metadata": {},
   "outputs": [],
   "source": [
    "X = synth_data.gen_lorenz_data(50000)\n",
    "X += np.random.randn(*X.shape) / 50."
   ]
  },
  {
   "cell_type": "code",
   "execution_count": 46,
   "metadata": {},
   "outputs": [],
   "source": [
    "X = np.concatenate([X, X[::-1]], axis=0)"
   ]
  },
  {
   "cell_type": "code",
   "execution_count": 53,
   "metadata": {
    "scrolled": true
   },
   "outputs": [
    {
     "name": "stdout",
     "output_type": "stream",
     "text": [
      "tensor(3.9806, dtype=torch.float64)\n"
     ]
    }
   ],
   "source": [
    "T = 2\n",
    "d = 1\n",
    "model1 = DCA(T=T, d=d, n_init=5)\n",
    "model1.fit(X)\n",
    "print(model1.score())"
   ]
  },
  {
   "cell_type": "code",
   "execution_count": 54,
   "metadata": {},
   "outputs": [
    {
     "name": "stdout",
     "output_type": "stream",
     "text": [
      "tensor(3.9806, dtype=torch.float64)\n"
     ]
    }
   ],
   "source": [
    "reload(pf_dca)\n",
    "model2 = pf_dca.PastFutureDynamicalComponentsAnalysis(T=T, d=d, n_init=5)\n",
    "model2.fit(X)\n",
    "print(model2.score())"
   ]
  },
  {
   "cell_type": "code",
   "execution_count": 55,
   "metadata": {},
   "outputs": [
    {
     "data": {
      "text/plain": [
       "array([[0.80849845],\n",
       "       [0.58801323],\n",
       "       [0.02388927]])"
      ]
     },
     "execution_count": 55,
     "metadata": {},
     "output_type": "execute_result"
    }
   ],
   "source": [
    "model1.coef_"
   ]
  },
  {
   "cell_type": "code",
   "execution_count": 56,
   "metadata": {},
   "outputs": [
    {
     "data": {
      "text/plain": [
       "array([[0.80873483],\n",
       "       [0.5877508 ],\n",
       "       [0.02229311]])"
      ]
     },
     "execution_count": 56,
     "metadata": {},
     "output_type": "execute_result"
    }
   ],
   "source": [
    "model2.coef_[0]"
   ]
  },
  {
   "cell_type": "code",
   "execution_count": 57,
   "metadata": {},
   "outputs": [
    {
     "data": {
      "text/plain": [
       "array([[0.80874543],\n",
       "       [0.58773699],\n",
       "       [0.02227242]])"
      ]
     },
     "execution_count": 57,
     "metadata": {},
     "output_type": "execute_result"
    }
   ],
   "source": [
    "model2.coef_[1]"
   ]
  },
  {
   "cell_type": "code",
   "execution_count": 16,
   "metadata": {},
   "outputs": [
    {
     "name": "stdout",
     "output_type": "stream",
     "text": [
      "tensor(3.5796, dtype=torch.float64)\n"
     ]
    }
   ],
   "source": [
    "model3 = CCA(n_components=d, scale=False)\n",
    "model3.fit(X[:-1], X[1:])\n",
    "model4 = pf_dca.PastFutureDynamicalComponentsAnalysis(T=1, d=model3.n_components, verbose=True, n_init=5)\n",
    "model4.estimate_cross_covariance(X)\n",
    "model4.coef_ = (model3.x_weights_, model3.y_weights_)\n",
    "print(model4.score())"
   ]
  },
  {
   "cell_type": "code",
   "execution_count": null,
   "metadata": {},
   "outputs": [],
   "source": [
    "print(model3.x_weights_)\n",
    "print(model3.y_weights_)"
   ]
  },
  {
   "cell_type": "code",
   "execution_count": null,
   "metadata": {},
   "outputs": [],
   "source": [
    "print(model2.coef_[0])\n",
    "print(model2.coef_[1])"
   ]
  },
  {
   "cell_type": "code",
   "execution_count": null,
   "metadata": {},
   "outputs": [],
   "source": [
    "plt.imshow(cov_util.calc_cov_from_cross_cov_mats(model2.cross_covs.numpy()))"
   ]
  },
  {
   "cell_type": "code",
   "execution_count": null,
   "metadata": {},
   "outputs": [],
   "source": [
    "np.linalg.eigvalsh(cov_util.calc_cov_from_cross_cov_mats(cov_util.project_cross_cov_mats(model2.cross_covs.numpy(), proj=np.random.randn(3, 1))))"
   ]
  },
  {
   "cell_type": "code",
   "execution_count": null,
   "metadata": {
    "scrolled": false
   },
   "outputs": [],
   "source": [
    "reload(pf_dca)\n",
    "dp = 2\n",
    "df = 3\n",
    "T = 3\n",
    "proj = np.random.randn(3, dp)\n",
    "proj2 = np.random.randn(3, df)\n",
    "#proj2 = proj\n",
    "ccms = cov_util.calc_cross_cov_mats_from_data(X, T=T*2)\n",
    "bigcov = cov_util.calc_cov_from_cross_cov_mats(ccms)\n",
    "cov = pf_dca.calc_cov_from_cross_cov_mats(*pf_dca.project_cross_cov_mats(ccms,\n",
    "                                          proj,\n",
    "                                          proj2))\n",
    "tccms = torch.tensor(ccms)\n",
    "tcov = pf_dca.calc_cov_from_cross_cov_mats(*pf_dca.project_cross_cov_mats(tccms,\n",
    "                                            torch.tensor(proj),\n",
    "                                            torch.tensor(proj2)))\n",
    "Xl = data_util.form_lag_matrix(X, T=T*2)\n",
    "big_proj = np.zeros((2*T*3, T*(dp+df)))\n",
    "for ii in range(T):\n",
    "    big_proj[ii*3:(ii+1)*3, ii*dp:(ii+1)*dp] = proj\n",
    "    big_proj[(T+ii)*3:(T+ii+1)*3, T*dp+ii*df:T*dp+(ii+1)*df] = proj2\n",
    "bigcov2 = np.cov(Xl, rowvar=False)\n",
    "cov2 = np.cov(Xl.dot(big_proj), rowvar=False)\n",
    "#print(np.linalg.eigvalsh(bigcov))\n",
    "#print(np.linalg.eigvalsh(cov))\n",
    "#print(np.linalg.eigvalsh(cov[:T*dp, :T*dp]))\n",
    "#print(np.linalg.eigvalsh(cov[T*df:, T*df:]))"
   ]
  },
  {
   "cell_type": "code",
   "execution_count": null,
   "metadata": {},
   "outputs": [],
   "source": [
    "plt.scatter(tcov.numpy().ravel(), cov.ravel())"
   ]
  },
  {
   "cell_type": "code",
   "execution_count": null,
   "metadata": {},
   "outputs": [],
   "source": [
    "for ii in range(T):\n",
    "    mat = cov2[:dp, ii*dp:(ii+1)*dp]\n",
    "    print(mat)\n",
    "    print(mat.shape)\n",
    "for ii in range(T):\n",
    "    mat = cov2[:dp, T*dp+ii*df:T*dp+(ii+1)*df]\n",
    "    print(mat)\n",
    "    print(mat.shape)"
   ]
  },
  {
   "cell_type": "code",
   "execution_count": null,
   "metadata": {},
   "outputs": [],
   "source": [
    "plt.figure(figsize=(2, 2))\n",
    "plt.scatter(bigcov.ravel(), bigcov2.ravel(), marker='.')\n",
    "plt.figure(figsize=(2, 2))\n",
    "plt.scatter(cov.ravel(), cov2.ravel(), marker='.')\n",
    "plt.figure(figsize=(2, 2))\n",
    "plt.scatter(cov[:dp*T,:dp*T].ravel(), cov2[:dp*T,:dp*T].ravel(), marker='.')"
   ]
  },
  {
   "cell_type": "code",
   "execution_count": null,
   "metadata": {},
   "outputs": [],
   "source": [
    "plt.imshow(cov, vmin=min(cov.min(), cov2.min()), vmax=max(cov.max(), cov2.max()))"
   ]
  },
  {
   "cell_type": "code",
   "execution_count": null,
   "metadata": {},
   "outputs": [],
   "source": [
    "plt.imshow(cov2, vmin=min(cov.min(), cov2.min()), vmax=max(cov.max(), cov2.max()))"
   ]
  },
  {
   "cell_type": "code",
   "execution_count": null,
   "metadata": {},
   "outputs": [],
   "source": [
    "cov[:T*d, T*d:]"
   ]
  },
  {
   "cell_type": "code",
   "execution_count": null,
   "metadata": {},
   "outputs": [],
   "source": [
    "cov2[:T*d, T*d:]"
   ]
  },
  {
   "cell_type": "code",
   "execution_count": null,
   "metadata": {},
   "outputs": [],
   "source": [
    "cpp, cff, cpf = pf_dca.project_cross_cov_mats(ccms, proj, proj2)"
   ]
  },
  {
   "cell_type": "code",
   "execution_count": null,
   "metadata": {},
   "outputs": [],
   "source": [
    "np.linalg.eigvalsh(cov_util.calc_cov_from_cross_cov_mats(cpp))"
   ]
  },
  {
   "cell_type": "code",
   "execution_count": null,
   "metadata": {},
   "outputs": [],
   "source": [
    "np.allclose(cov[T*d:, :T*d], cov[:T*d, T*d:].T)"
   ]
  },
  {
   "cell_type": "code",
   "execution_count": null,
   "metadata": {},
   "outputs": [],
   "source": []
  }
 ],
 "metadata": {
  "kernelspec": {
   "display_name": "Python 3",
   "language": "python",
   "name": "python3"
  },
  "language_info": {
   "codemirror_mode": {
    "name": "ipython",
    "version": 3
   },
   "file_extension": ".py",
   "mimetype": "text/x-python",
   "name": "python",
   "nbconvert_exporter": "python",
   "pygments_lexer": "ipython3",
   "version": "3.6.8"
  }
 },
 "nbformat": 4,
 "nbformat_minor": 2
}
