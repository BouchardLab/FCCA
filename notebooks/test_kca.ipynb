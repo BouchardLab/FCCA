{
 "cells": [
  {
   "cell_type": "code",
   "execution_count": 1,
   "id": "0239eb66",
   "metadata": {},
   "outputs": [],
   "source": [
    "%load_ext autoreload \n",
    "%autoreload 2"
   ]
  },
  {
   "cell_type": "code",
   "execution_count": 2,
   "id": "ff4a0f19",
   "metadata": {},
   "outputs": [],
   "source": [
    "import numpy as np\n",
    "import scipy\n",
    "import matplotlib.pyplot as plt\n",
    "import pdb\n",
    "import torch"
   ]
  },
  {
   "cell_type": "code",
   "execution_count": 3,
   "id": "2d0d24d4",
   "metadata": {},
   "outputs": [],
   "source": [
    "from neurosim.models.ssr import StateSpaceRealization as SSR"
   ]
  },
  {
   "cell_type": "code",
   "execution_count": 4,
   "id": "e65bfc24",
   "metadata": {},
   "outputs": [],
   "source": [
    "from dca_research.kca import KalmanComponentsAnalysis as KCA\n",
    "from dca_research.kca import calc_mmse_from_cross_cov_mats"
   ]
  },
  {
   "cell_type": "code",
   "execution_count": 5,
   "id": "d10ab7eb",
   "metadata": {},
   "outputs": [],
   "source": [
    "from dca.cov_util import calc_cov_from_cross_cov_mats"
   ]
  },
  {
   "cell_type": "code",
   "execution_count": 6,
   "id": "91e68969",
   "metadata": {},
   "outputs": [],
   "source": [
    "size = 20\n",
    "A = 1/np.sqrt(1.2 * size) * np.random.normal(size=(size, size))\n",
    "while max(np.abs(np.linalg.eigvals(A)) > 0.99):\n",
    "    A = 1/np.sqrt(1.2 * size) * np.random.normal(size=(size, size))\n",
    "\n",
    "B = np.eye(size)\n",
    "C = np.eye(size)\n",
    "ssr = SSR(A=A, B=B, C=C)\n",
    "ssr.solve_min_phase()"
   ]
  },
  {
   "cell_type": "code",
   "execution_count": 7,
   "id": "39fac97d",
   "metadata": {},
   "outputs": [],
   "source": [
    "V = scipy.stats.ortho_group.rvs(size)[:, 0:1]"
   ]
  },
  {
   "cell_type": "code",
   "execution_count": 8,
   "id": "4bb24a8f",
   "metadata": {},
   "outputs": [],
   "source": [
    "c, cp, cpf = ssr.mmse_cov(10, proj=V.T)"
   ]
  },
  {
   "cell_type": "code",
   "execution_count": 9,
   "id": "d7364617",
   "metadata": {},
   "outputs": [
    {
     "data": {
      "text/plain": [
       "63.985306496734474"
      ]
     },
     "execution_count": 9,
     "metadata": {},
     "output_type": "execute_result"
    }
   ],
   "source": [
    "ssrproj = SSR(A=A, B=B, C=V.T)\n",
    "ssrproj.solve_min_phase()\n",
    "np.trace(ssrproj.P - ssrproj.Pmin)"
   ]
  },
  {
   "cell_type": "code",
   "execution_count": 10,
   "id": "f3b5b752",
   "metadata": {},
   "outputs": [
    {
     "data": {
      "text/plain": [
       "64.02504856619916"
      ]
     },
     "execution_count": 10,
     "metadata": {},
     "output_type": "execute_result"
    }
   ],
   "source": [
    "np.trace(ssr.P - cpf.T @ np.linalg.inv(cp) @ cpf)"
   ]
  },
  {
   "cell_type": "code",
   "execution_count": 12,
   "id": "e7aef2fd",
   "metadata": {},
   "outputs": [],
   "source": [
    "mmse, cp_, cf_, cpf_ = calc_mmse_from_cross_cov_mats(torch.tensor(ssr.autocorrelation(10)), \n",
    "                                                     torch.tensor(V), return_covs=True)"
   ]
  },
  {
   "cell_type": "code",
   "execution_count": 36,
   "id": "7eea40bc",
   "metadata": {},
   "outputs": [
    {
     "data": {
      "text/plain": [
       "tensor(75.4476, dtype=torch.float64)"
      ]
     },
     "execution_count": 36,
     "metadata": {},
     "output_type": "execute_result"
    }
   ],
   "source": [
    "mmse"
   ]
  },
  {
   "cell_type": "code",
   "execution_count": 123,
   "id": "458eb61b",
   "metadata": {},
   "outputs": [],
   "source": [
    "# These are still off from the Riccati equation..."
   ]
  },
  {
   "cell_type": "code",
   "execution_count": 7,
   "id": "9f85beb5",
   "metadata": {},
   "outputs": [],
   "source": [
    "x = ssr.trajectory(5 * int(1e4), burnoff=True)"
   ]
  },
  {
   "cell_type": "code",
   "execution_count": 21,
   "id": "3f5f73c6",
   "metadata": {},
   "outputs": [],
   "source": [
    "# Check # 1: Does mmse_from_cross_cov_mats match the trace of Pmin"
   ]
  },
  {
   "cell_type": "code",
   "execution_count": 8,
   "id": "46307ea2",
   "metadata": {},
   "outputs": [
    {
     "name": "stderr",
     "output_type": "stream",
     "text": [
      "INFO:Model:Starting cross covariance estimate.\n",
      "INFO:Model:Cross covariance estimate took 0.0 minutes.\n"
     ]
    },
    {
     "data": {
      "text/plain": [
       "<dca_research.kca.KalmanComponentsAnalysis at 0x7f5abe03b4d0>"
      ]
     },
     "execution_count": 8,
     "metadata": {},
     "output_type": "execute_result"
    }
   ],
   "source": [
    "kcamodel = KCA(d=, T=5, verbose=True)\n",
    "kcamodel.estimate_data_statistics(x)"
   ]
  },
  {
   "cell_type": "code",
   "execution_count": 12,
   "id": "1f806be2",
   "metadata": {},
   "outputs": [
    {
     "name": "stderr",
     "output_type": "stream",
     "text": [
      "INFO:Model:Loss 71.6205, PI: -71.6205 nats, reg: 0.0\n",
      " This problem is unconstrained.\n",
      "INFO:Model:Loss 60.8155, PI: -51.8248 nats, reg: 8.9907\n",
      "INFO:Model:Loss 50.5755, PI: -50.1468 nats, reg: 0.4286\n",
      "INFO:Model:Loss 47.3611, PI: -47.3446 nats, reg: 0.0165\n",
      "INFO:Model:Loss 43.7048, PI: -43.6141 nats, reg: 0.0907\n",
      "INFO:Model:Loss 42.3901, PI: -42.2173 nats, reg: 0.1728\n",
      "INFO:Model:Loss 41.7463, PI: -41.676 nats, reg: 0.0703\n",
      "INFO:Model:Loss 41.2026, PI: -41.1525 nats, reg: 0.0501\n",
      "INFO:Model:Loss 40.9157, PI: -40.8847 nats, reg: 0.031\n",
      "INFO:Model:Loss 40.668, PI: -40.6524 nats, reg: 0.0156\n",
      "INFO:Model:Loss 40.594, PI: -40.567 nats, reg: 0.027\n",
      "INFO:Model:Loss 40.5622, PI: -40.54 nats, reg: 0.0221\n",
      "INFO:Model:Loss 40.4994, PI: -40.4965 nats, reg: 0.0028\n",
      "INFO:Model:Loss 40.4644, PI: -40.4618 nats, reg: 0.0026\n",
      "INFO:Model:Loss 40.4065, PI: -40.3963 nats, reg: 0.0102\n",
      "INFO:Model:Loss 40.3389, PI: -40.3155 nats, reg: 0.0233\n",
      "INFO:Model:Loss 40.2608, PI: -40.2427 nats, reg: 0.0181\n",
      "INFO:Model:Loss 40.1643, PI: -40.1609 nats, reg: 0.0034\n",
      "INFO:Model:Loss 40.106, PI: -40.0962 nats, reg: 0.0098\n",
      "INFO:Model:Loss 40.052, PI: -40.0134 nats, reg: 0.0386\n",
      "INFO:Model:Loss 39.937, PI: -39.9123 nats, reg: 0.0247\n",
      "INFO:Model:Loss 39.8194, PI: -39.8051 nats, reg: 0.0142\n",
      "INFO:Model:Loss 39.8145, PI: -39.795 nats, reg: 0.0196\n",
      "INFO:Model:Loss 39.7978, PI: -39.7666 nats, reg: 0.0312\n",
      "INFO:Model:Loss 39.7923, PI: -39.7802 nats, reg: 0.0121\n",
      "INFO:Model:Loss 39.7619, PI: -39.7615 nats, reg: 0.0004\n",
      "INFO:Model:Loss 39.7577, PI: -39.7567 nats, reg: 0.001\n",
      "INFO:Model:Loss 39.7538, PI: -39.7525 nats, reg: 0.0014\n",
      "INFO:Model:Loss 39.7514, PI: -39.7494 nats, reg: 0.002\n",
      "INFO:Model:Loss 39.7487, PI: -39.7486 nats, reg: 0.0001\n",
      "INFO:Model:Loss 39.7483, PI: -39.7483 nats, reg: 0.0\n",
      "INFO:Model:Loss 39.7482, PI: -39.7482 nats, reg: 0.0\n",
      "INFO:Model:Loss 39.7481, PI: -39.7481 nats, reg: 0.0\n",
      "INFO:Model:Loss 39.7481, PI: -39.7481 nats, reg: 0.0\n"
     ]
    },
    {
     "name": "stdout",
     "output_type": "stream",
     "text": [
      "RUNNING THE L-BFGS-B CODE\n",
      "\n",
      "           * * *\n",
      "\n",
      "Machine precision = 2.220D-16\n",
      " N =           40     M =           10\n",
      "\n",
      "At X0         0 variables are exactly at the bounds\n",
      "\n",
      "At iterate    0    f=  7.16205D+01    |proj g|=  5.04913D+01\n",
      "\n",
      "At iterate    1    f=  6.08155D+01    |proj g|=  3.01284D+01\n",
      "\n",
      "At iterate    2    f=  5.05755D+01    |proj g|=  7.79067D+00\n",
      "\n",
      "At iterate    3    f=  4.73611D+01    |proj g|=  4.17080D+00\n",
      "\n",
      "At iterate    4    f=  4.37048D+01    |proj g|=  2.61482D+00\n",
      "\n",
      "At iterate    5    f=  4.23901D+01    |proj g|=  3.07588D+00\n",
      "\n",
      "At iterate    6    f=  4.17463D+01    |proj g|=  1.84844D+00\n",
      "\n",
      "At iterate    7    f=  4.12026D+01    |proj g|=  1.79682D+00\n",
      "\n",
      "At iterate    8    f=  4.09157D+01    |proj g|=  1.01755D+00\n",
      "\n",
      "At iterate    9    f=  4.06680D+01    |proj g|=  1.28347D+00\n",
      "\n",
      "At iterate   10    f=  4.05940D+01    |proj g|=  1.44418D+00\n",
      "\n",
      "At iterate   11    f=  4.05622D+01    |proj g|=  8.63828D-01\n",
      "\n",
      "At iterate   12    f=  4.04994D+01    |proj g|=  4.72862D-01\n",
      "\n",
      "At iterate   13    f=  4.04644D+01    |proj g|=  4.12835D-01\n",
      "\n",
      "At iterate   14    f=  4.04065D+01    |proj g|=  6.02014D-01\n",
      "\n",
      "At iterate   15    f=  4.03389D+01    |proj g|=  8.60334D-01\n",
      "\n",
      "At iterate   16    f=  4.02608D+01    |proj g|=  1.01796D+00\n",
      "\n",
      "At iterate   17    f=  4.01643D+01    |proj g|=  5.10583D-01\n",
      "\n",
      "At iterate   18    f=  4.01060D+01    |proj g|=  6.79720D-01\n",
      "\n",
      "At iterate   19    f=  4.00520D+01    |proj g|=  1.08918D+00\n",
      "\n",
      "At iterate   20    f=  3.99370D+01    |proj g|=  8.42461D-01\n",
      "\n",
      "At iterate   21    f=  3.98194D+01    |proj g|=  5.88376D-01\n",
      "\n",
      "At iterate   22    f=  3.98145D+01    |proj g|=  9.57476D-01\n",
      "\n",
      "At iterate   23    f=  3.97978D+01    |proj g|=  8.63773D-01\n",
      "\n",
      "At iterate   24    f=  3.97923D+01    |proj g|=  5.27283D-01\n",
      "\n",
      "At iterate   25    f=  3.97619D+01    |proj g|=  1.38653D-01\n",
      "\n",
      "At iterate   26    f=  3.97577D+01    |proj g|=  1.74701D-01\n",
      "\n",
      "At iterate   27    f=  3.97538D+01    |proj g|=  1.80791D-01\n",
      "\n",
      "At iterate   28    f=  3.97514D+01    |proj g|=  2.56952D-01\n",
      "\n",
      "At iterate   29    f=  3.97487D+01    |proj g|=  6.93717D-02\n",
      "\n",
      "At iterate   30    f=  3.97483D+01    |proj g|=  2.55263D-02\n",
      "\n",
      "At iterate   31    f=  3.97482D+01    |proj g|=  2.30693D-02\n",
      "\n",
      "At iterate   32    f=  3.97481D+01    |proj g|=  1.39807D-02\n",
      "\n",
      "At iterate   33    f=  3.97481D+01    |proj g|=  1.01513D-02\n",
      "\n",
      "           * * *\n",
      "\n",
      "Tit   = total number of iterations\n",
      "Tnf   = total number of function evaluations\n",
      "Tnint = total number of segments explored during Cauchy searches\n",
      "Skip  = number of BFGS updates skipped\n",
      "Nact  = number of active bounds at final generalized Cauchy point\n",
      "Projg = norm of the final projected gradient\n",
      "F     = final function value\n",
      "\n",
      "           * * *\n",
      "\n",
      "   N    Tit     Tnf  Tnint  Skip  Nact     Projg        F\n",
      "   40     33     37      1     0     0   1.015D-02   3.975D+01\n",
      "  F =   39.748083148671007     \n",
      "\n",
      "CONVERGENCE: REL_REDUCTION_OF_F_<=_FACTR*EPSMCH             \n"
     ]
    },
    {
     "data": {
      "text/plain": [
       "(array([[-0.21390369,  0.1097262 ],\n",
       "        [ 0.02485077, -0.11152889],\n",
       "        [-0.45549672, -0.15530567],\n",
       "        [-0.2468783 ,  0.20347477],\n",
       "        [-0.20403521,  0.13881013],\n",
       "        [-0.26722186, -0.60600851],\n",
       "        [ 0.25512414, -0.09519969],\n",
       "        [ 0.25981572,  0.1651015 ],\n",
       "        [-0.2267173 ,  0.10114024],\n",
       "        [ 0.35364584, -0.25330922],\n",
       "        [ 0.00327859, -0.08187837],\n",
       "        [-0.09568254,  0.49418196],\n",
       "        [ 0.17244414,  0.10783595],\n",
       "        [-0.12669125, -0.20490008],\n",
       "        [-0.25004209,  0.27956936],\n",
       "        [-0.13916988, -0.07512523],\n",
       "        [-0.20096656, -0.10638501],\n",
       "        [-0.07320046, -0.04900695],\n",
       "        [ 0.03628532,  0.10350397],\n",
       "        [ 0.28142426, -0.00090147]]),\n",
       " -39.74808106147508)"
      ]
     },
     "execution_count": 12,
     "metadata": {},
     "output_type": "execute_result"
    }
   ],
   "source": [
    "kcamodel._fit_projection(record_V=True)"
   ]
  },
  {
   "cell_type": "code",
   "execution_count": null,
   "id": "ce0f6528",
   "metadata": {},
   "outputs": [],
   "source": []
  },
  {
   "cell_type": "code",
   "execution_count": null,
   "id": "c6d9a819",
   "metadata": {},
   "outputs": [],
   "source": []
  }
 ],
 "metadata": {
  "kernelspec": {
   "display_name": "Python 3 (ipykernel)",
   "language": "python",
   "name": "python3"
  },
  "language_info": {
   "codemirror_mode": {
    "name": "ipython",
    "version": 3
   },
   "file_extension": ".py",
   "mimetype": "text/x-python",
   "name": "python",
   "nbconvert_exporter": "python",
   "pygments_lexer": "ipython3",
   "version": "3.7.10"
  }
 },
 "nbformat": 4,
 "nbformat_minor": 5
}
