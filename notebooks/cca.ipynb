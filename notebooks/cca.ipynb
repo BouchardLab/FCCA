{
 "cells": [
  {
   "cell_type": "code",
   "execution_count": 2,
   "metadata": {},
   "outputs": [],
   "source": [
    "import numpy as np\n",
    "import matplotlib.pyplot as plt\n",
    "import matplotlib.patches as patches\n",
    "import os\n",
    "from sklearn.cross_decomposition import CCA\n",
    "\n",
    "from statsmodels.multivariate.cancorr import CanCorr\n",
    "\n",
    "import scipy\n",
    "from dca.synth_data import (embedded_lorenz_cross_cov_mats, oscillators_dynamics_mat,\n",
    "                            oscillators_cross_cov_mats, sample_oscillators)\n",
    "from dca import style, DynamicalComponentsAnalysis\n",
    "from dca.cov_util import calc_cross_cov_mats_from_data\n",
    "from dca.data_util import form_lag_matrix\n",
    "\n",
    "from dca_research import pf_dca"
   ]
  },
  {
   "cell_type": "code",
   "execution_count": 18,
   "metadata": {},
   "outputs": [],
   "source": [
    "def calc_neg_sqrt(X, min_eigval=1e-5):\n",
    "    w, V = scipy.linalg.eigh(X)\n",
    "    if np.min(w) < min_eigval:\n",
    "        w += (-np.min(w) + min_eigval)\n",
    "    cov_neg_sqrt = V.dot(np.diag(1. / np.sqrt(w))).dot(V.T)\n",
    "    return cov_neg_sqrt\n",
    "\n",
    "def cca_proj(cov_11, cov_12):\n",
    "    cov_neg_sqrt = calc_neg_sqrt(cov_11)\n",
    "    to_svd = cov_neg_sqrt.dot(cov_12).dot(cov_neg_sqrt)\n",
    "    U, s, Vt = scipy.linalg.svd(to_svd)\n",
    "    V = Vt.T\n",
    "    U = np.dot(cov_neg_sqrt, U)\n",
    "    V = np.dot(cov_neg_sqrt, V)\n",
    "    U /= np.sqrt(np.sum(U**2, axis=0))\n",
    "    V /= np.sqrt(np.sum(V**2, axis=0))\n",
    "    return U, V\n",
    "\n",
    "def cca_proj2(X, Y):\n",
    "    \"\"\"\n",
    "    model = CanCorr(X, Y)\n",
    "    return model.x_cancoef.T, model.y_cancoef.T\n",
    "    \"\"\"\n",
    "    model = CCA()\n",
    "    model.fit(X, Y)\n",
    "    return model.x_weights_, model.y_weights_\n",
    "    \n",
    "\n",
    "def pf_dca_proj(cov_11, cov_12, d, n_init):\n",
    "    opt = pf_dca.PastFutureDynamicalComponentsAnalysis()\n",
    "    opt.cross_covs = np.array([cov_11, cov_12.T])\n",
    "    opt.fit_projection(d=d, n_init=n_init)\n",
    "    U, V = opt.coef_\n",
    "    return U, V\n",
    "\n",
    "def sfa_proj(cov_11, cov_12):\n",
    "    cov_neg_sqrt = calc_neg_sqrt(cov_11)\n",
    "    cov_sym = cov_12 + cov_12.T\n",
    "    to_pca = cov_neg_sqrt.dot(cov_sym).dot(cov_neg_sqrt)\n",
    "    w, V = scipy.linalg.eigh(to_pca)\n",
    "    w, V = w[::-1], V[:, ::-1]\n",
    "    #V = V[:, np.argsort(np.abs(w))[::-1]]\n",
    "    V = np.dot(cov_neg_sqrt, V)\n",
    "    V /= np.sqrt(np.sum(V**2, axis=0))\n",
    "    return V\n",
    "\n",
    "def pca_proj(cov):\n",
    "    _, V = scipy.linalg.eigh(cov)\n",
    "    V = V[:, ::-1]\n",
    "    return V\n",
    "\n",
    "def dca_proj(cov_11, cov_12, d, n_init=1):\n",
    "    opt = DynamicalComponentsAnalysis()\n",
    "    opt.cross_covs = np.array([cov_11, cov_12.T])\n",
    "    opt.fit_projection(d=d, n_init=n_init)\n",
    "    V = opt.coef_\n",
    "    return V\n",
    "\n",
    "def quad_mat(A, B, C, D):\n",
    "    top = np.concatenate((A, B), axis=1)\n",
    "    bottom = np.concatenate((C, D), axis=1)\n",
    "    mat = np.concatenate((top, bottom), axis=0)\n",
    "    return mat\n",
    "\n",
    "def calc_pi(cov_11, cov_12, U, V):\n",
    "    proj_cov_11 = U.T.dot(cov_11).dot(U)\n",
    "    proj_cov_22 = V.T.dot(cov_11).dot(V)\n",
    "    proj_cov_12 = U.T.dot(cov_12).dot(V)\n",
    "    proj_cov_21 = proj_cov_12.T\n",
    "    cov_full = quad_mat(proj_cov_11, proj_cov_12, proj_cov_21, proj_cov_22)\n",
    "    d1 = np.linalg.slogdet(proj_cov_11)[1]\n",
    "    d2 = np.linalg.slogdet(proj_cov_22)[1]\n",
    "    d3 = np.linalg.slogdet(cov_full)[1]\n",
    "    return 0.5 * (d1 + d2 - d3)\n",
    "\n",
    "def mi_vs_dim(cov_11, cov_12, X, Y, n_init=100):\n",
    "    N = cov_11.shape[0]\n",
    "    method_labels = [\"CCA\", \"CCA2\", \"DCA\", \"pfDCA\", \"SFA\", \"PCA\"]\n",
    "    pi_vals = np.zeros((len(method_labels), N))\n",
    "    U_cca, V_cca = cca_proj(cov_11, cov_12)\n",
    "    U_cca2, V_cca2 = cca_proj2(X, Y)\n",
    "    V_pca = pca_proj(cov_11)\n",
    "    V_sfa = sfa_proj(cov_11, cov_12)\n",
    "    for i in range(1, N+1):\n",
    "        print(i)\n",
    "        pi_cca = calc_pi(cov_11, cov_12, U_cca[:, :i], V_cca[:, :i])\n",
    "        pi_cca2 = calc_pi(cov_11, cov_12, U_cca2[:, :i], V_cca2[:, :i])\n",
    "        V_dca = dca_proj(cov_11, cov_12, i, n_init=n_init)\n",
    "        Up, Vf = pf_dca_proj(cov_11, cov_12, i, n_init=n_init)\n",
    "        pi_pf = calc_pi(cov_11, cov_12, Up, Vf)\n",
    "        pi_dca = calc_pi(cov_11, cov_12, V_dca, V_dca)\n",
    "        pi_pca = calc_pi(cov_11, cov_12, V_pca[:, :i], V_pca[:, :i])\n",
    "        pi_sfa = calc_pi(cov_11, cov_12, V_sfa[:, :i], V_sfa[:, :i])\n",
    "        pi_vals[:, i-1] = [pi_cca, pi_cca2, pi_dca, pi_pf, pi_sfa, pi_pca]\n",
    "    return pi_vals, method_labels\n"
   ]
  },
  {
   "cell_type": "code",
   "execution_count": 23,
   "metadata": {},
   "outputs": [
    {
     "data": {
      "text/plain": [
       "(<matplotlib.axes._axes.Axes at 0x1c2e1e97f0>,\n",
       " <matplotlib.axes._axes.Axes at 0x1c2ff09160>,\n",
       " <matplotlib.axes._axes.Axes at 0x1c2fd3b978>,\n",
       " <matplotlib.axes._axes.Axes at 0x1c2fd2fbe0>)"
      ]
     },
     "execution_count": 23,
     "metadata": {},
     "output_type": "execute_result"
    },
    {
     "data": {
      "image/png": "[encoded data removed]",
      "text/plain": [
       "<Figure size 216x72 with 4 Axes>"
      ]
     },
     "metadata": {
      "needs_background": "light"
     },
     "output_type": "display_data"
    }
   ],
   "source": [
    "def make_axes(fig_width, fig_height, wpad_edge=0, wpad_mid=0, hpad_bottom=0, hpad_top=0,\n",
    "              inset_x_rel=0.5, inset_y_rel=0.5, inset_height_rel=0.25):\n",
    "    fig = plt.figure(figsize=(fig_width, fig_height))    \n",
    "    ax_height = 1. - hpad_top - hpad_bottom\n",
    "    ax_width = (1. - 2*wpad_edge - 2*wpad_mid)/3\n",
    "    \n",
    "    ax1 = fig.add_axes(( wpad_edge, hpad_bottom, ax_width, ax_height ))\n",
    "    ax2 = fig.add_axes(( wpad_edge + ax_width + wpad_mid, hpad_bottom, ax_width, ax_height ))\n",
    "    ax3 = fig.add_axes(( wpad_edge + 2*ax_width + 2*wpad_mid, hpad_bottom, ax_width, ax_height ))\n",
    "    \n",
    "    #Make inset\n",
    "    inset_width_rel = 1.5 * inset_height_rel * (ax_height*fig_height) / (ax_width*fig_width)\n",
    "    inset_x_abs = wpad_edge + ax_width*inset_x_rel\n",
    "    inset_y_abs = hpad_bottom + ax_height*inset_y_rel\n",
    "    inset_width_abs = ax_width*inset_width_rel\n",
    "    inset_height_abs = ax_height*inset_height_rel\n",
    "    \n",
    "    ax_inset = fig.add_axes((inset_x_abs, inset_y_abs, inset_width_abs, inset_height_abs))\n",
    "    \n",
    "    \n",
    "    fig.text(wpad_edge/2, hpad_bottom + ax_height,\n",
    "             \"A\", va=\"bottom\", ha=\"right\", color=\"black\",\n",
    "             **style.panel_letter_fontstyle)\n",
    "    fig.text(wpad_edge + ax_width + wpad_mid - wpad_edge + wpad_edge/2, hpad_bottom + ax_height,\n",
    "             \"B\", va=\"bottom\", ha=\"right\", color=\"black\",\n",
    "             **style.panel_letter_fontstyle)\n",
    "    fig.text(wpad_edge + 2*ax_width + 2*wpad_mid - wpad_edge + wpad_edge/2, hpad_bottom + ax_height,\n",
    "             \"C\", va=\"bottom\", ha=\"right\", color=\"black\",\n",
    "             **style.panel_letter_fontstyle)\n",
    "    \n",
    "    return ax1, ax_inset, ax2, ax3\n",
    "\n",
    "def cycle_from_style(scheme):\n",
    "    return [color_dict[\"color\"] for color_dict in plt.style.library[scheme]['axes.prop_cycle']]\n",
    "\n",
    "##C63F3A\"\n",
    "method_colors = [\"black\", 'purple', \"#e83535\", \"green\", \"tab:blue\", \"gray\"]\n",
    "def plot_mi_vs_dim(mi_vals, labels, ax=None, legend=False, xlabel=False, max_dim=None, title=None):\n",
    "    if ax is None:\n",
    "        fig, ax = plt.subplots(1, 1, figsize=(5, 3))\n",
    "    num_methods, N = mi_vals.shape\n",
    "    if max_dim is None:\n",
    "        max_dim = N\n",
    "    pi_from_zero = np.concatenate((np.zeros(num_methods).reshape((num_methods, 1)), mi_vals[:, :max_dim]), axis=1)\n",
    "    dims = np.arange(max_dim + 1)\n",
    "    max_mi = np.max(mi_vals)\n",
    "    \n",
    "    #diag_x_vals = np.linspace(0, max_dim, 1000)\n",
    "    #diag_y_vals = (max_mi / max_dim)*diag_x_vals \n",
    "    #ax.plot(diag_x_vals, diag_y_vals, c=\"black\", linestyle=\"--\", linewidth=0.75)\n",
    "    #ypad = 0.05 * max_mi\n",
    "    ax.set_ylim([0, max_mi*1.05])\n",
    "    ax.set_xlim([0, max_dim*1.02])\n",
    "    \n",
    "    xticks = np.arange(0, max_dim + 1, 5, dtype=np.int)\n",
    "    ax.set_xticks(xticks)\n",
    "    ax.set_xticklabels(xticks, fontsize=style.ticklabel_fontsize)\n",
    "    \n",
    "    yticks = [0, max_mi]\n",
    "    max_ylabel = str(np.round(max_mi, 1))\n",
    "    while len(max_ylabel) < 4:\n",
    "        max_ylabel = \"  \" + max_ylabel\n",
    "    ytick_labels = [\"0\", max_ylabel]\n",
    "    ax.set_yticks(yticks)\n",
    "    ax.set_yticklabels(ytick_labels, fontsize=style.ticklabel_fontsize)\n",
    "    ax.tick_params(axis='y', which='major', pad=1)\n",
    "    \n",
    "    ax.spines['right'].set_visible(False)\n",
    "    ax.spines['top'].set_visible(False)\n",
    "    ax.spines['left'].set_bounds(0, max_mi)\n",
    "    ax.spines['bottom'].set_bounds(0, max_dim)\n",
    "    \n",
    "    for i in range(num_methods):\n",
    "        linewidth = 1 if labels[i] == \"CCA\" else 0.75\n",
    "        markersize = 3 if labels[i] == \"CCA\" else 2\n",
    "        ax.plot(dims, pi_from_zero[i], label=labels[i], linewidth=linewidth,\n",
    "                color=method_colors[i], marker=\".\", markersize=markersize)\n",
    "    if legend:\n",
    "        ax.legend(loc=\"upper left\", fontsize=style.ticklabel_fontsize*5.9,\n",
    "                  frameon=False, ncol=2, labelspacing=0.1, columnspacing=0.55,\n",
    "                  bbox_to_anchor=(-0.0, 0.025, 1, 1))\n",
    "    if xlabel:\n",
    "        ax.set_xlabel(\"dimensions retained\", fontsize=style.axis_label_fontsize, labelpad=1)\n",
    "    ax.set_ylabel(\"MI (nats)\", fontsize=style.axis_label_fontsize, labelpad=-style.axis_label_fontsize)\n",
    "    if title is not None:\n",
    "        ax.set_title(title, fontsize=style.axis_label_fontsize, pad=3)\n",
    "        \n",
    "def plot_dca_autocorr_fns(ax, ax_inset, autocorr_1, autocorr_2):\n",
    "    linewidth = 1\n",
    "    colors = [\"tab:blue\", \"#e83535\"]\n",
    "    \n",
    "    ax.plot(autocorr_1, linewidth=linewidth, c=colors[0], label=\"$T = 1$\")#, marker=\".\", markersize=2)\n",
    "    ax.plot(autocorr_2, linewidth=linewidth, c=colors[1], label=\"$T = 20$\")#, marker=\".\", markersize=2)\n",
    "    ax_inset.plot(autocorr_1[:3], linewidth=linewidth, c=colors[0])#, marker=\".\", markersize=2*.75)\n",
    "    ax_inset.plot(autocorr_2[:3], linewidth=linewidth, c=colors[1])#, marker=\".\", markersize=2*.75)\n",
    "    \n",
    "    ax.spines['right'].set_visible(False)\n",
    "    ax.spines['top'].set_visible(False)\n",
    "    ax_inset.spines['right'].set_visible(False)\n",
    "    ax_inset.spines['top'].set_visible(False)\n",
    "    \n",
    "    #main plot tick labels\n",
    "    max_dt = 20\n",
    "    xticks = np.arange(0, max_dt + 1, 5, dtype=np.int)\n",
    "    ax.set_xticks(xticks)\n",
    "    ax.set_xticklabels(xticks, fontsize=style.ticklabel_fontsize)\n",
    "    ax.set_xlim([0, max_dt])\n",
    "    y_min_main = np.min(np.concatenate((autocorr_1, autocorr_2)))\n",
    "    y_min_main -= (1 - y_min_main) * .05\n",
    "    yticks = [y_min_main, 0, 1]\n",
    "    main_ytick_labels = [np.round(y_min_main, 1), \"0.0\", \"1.0\"]\n",
    "    ax.set_yticks(yticks)\n",
    "    ax.set_yticklabels(main_ytick_labels, fontsize=style.ticklabel_fontsize)\n",
    "    ax.set_ylim([y_min_main, 1])\n",
    "    ax.axhline(0, linestyle=\"-\", linewidth=linewidth, color=\"black\", zorder=0)\n",
    "    ax.yaxis.set_tick_params(pad=1)\n",
    "    ax.set_ylabel(\"autocorrelation\", fontsize=style.axis_label_fontsize, labelpad=1)\n",
    "    ax.set_xlabel(\"$\\Delta t$ (100 ms bins)\", fontsize=style.axis_label_fontsize, labelpad=1)\n",
    "    \n",
    "    #inset tick labels\n",
    "    xticks = [0, 1, 2]\n",
    "    ax_inset.set_xticks(xticks)\n",
    "    ax_inset.set_xticklabels(xticks, fontsize=style.ticklabel_fontsize*0.75)\n",
    "    ax_inset.spines['bottom'].set_bounds(0, 2)\n",
    "    ax_inset.set_xlim([0, 2.065])\n",
    "    y_min_inset =  np.min(np.concatenate((autocorr_1[:3], autocorr_2[:3])))\n",
    "    y_min_inset -= (1 - y_min_inset) * .05\n",
    "    ax_inset.set_ylim([y_min_inset, 1])\n",
    "    ax_inset.set_yticks([y_min_inset, 1])\n",
    "    inset_ytick_labels = [np.round(y_min_inset, 1), \"1.0\"]\n",
    "    ax_inset.set_yticklabels(inset_ytick_labels, fontsize=style.ticklabel_fontsize*0.75)\n",
    "    ax_inset.yaxis.set_tick_params(pad=1)\n",
    "    ax_inset.xaxis.set_tick_params(pad=1)\n",
    "    ax_inset.axvline(1, c=\"black\", linestyle=\"--\", linewidth=linewidth)\n",
    "    \n",
    "    rect = patches.Rectangle((0.25, y_min_inset - 0.01),\n",
    "                             2, 1 - y_min_inset,\n",
    "                             linestyle=\"-\",\n",
    "                             linewidth=0.9, edgecolor=\"black\", facecolor=\"none\",\n",
    "                             zorder=100)\n",
    "    ax.add_patch(rect)\n",
    "    #ax.arrow(2.5, 0.7, 2, 0.1,  head_width=0.05, head_length=0.5, fc='k', ec='k')\n",
    "    ax.quiver(2.5, 0.7, 2.7, 0.1, angles='xy', scale_units='xy', scale=1, width=0.01, color=\"black\")\n",
    "    #ax_inset.set_visible(False)\n",
    "    ax_inset.set_facecolor([0, 0, 0, 0])\n",
    "    ax.legend(loc=\"upper right\", fontsize=style.ticklabel_fontsize*5.9,\n",
    "                  frameon=False, ncol=1, labelspacing=0.1, columnspacing=0.6,\n",
    "                  bbox_to_anchor=(0.05, 0.175, 1, 1))\n",
    "        \n",
    "make_axes(3, 1, wpad_edge=0, wpad_mid=0, hpad_bottom=0, hpad_top=0)\n"
   ]
  },
  {
   "cell_type": "code",
   "execution_count": 25,
   "metadata": {},
   "outputs": [
    {
     "name": "stdout",
     "output_type": "stream",
     "text": [
      "1\n",
      "2\n",
      "3\n",
      "4\n",
      "5\n",
      "6\n",
      "7\n",
      "8\n",
      "9\n",
      "10\n",
      "11\n",
      "12\n",
      "13\n",
      "14\n",
      "15\n",
      "16\n",
      "17\n",
      "18\n",
      "19\n",
      "20\n"
     ]
    }
   ],
   "source": [
    "#Analysis 1: get MI vs dim for coupled oscillators and Lorenz attractors\n",
    "\n",
    "#Get cross-cov mats for all systems\n",
    "#Lorenz system\n",
    "#lorenz_cross_cov_mats = embedded_lorenz_cross_cov_mats(N=30, T=20, snr=1.)\n",
    "#Oscillator system (10 oscillators --> 20-dimensional state)\n",
    "A = oscillators_dynamics_mat(N=10)\n",
    "Xo = sample_oscillators(A, 20000)\n",
    "XoL = form_lag_matrix(Xo, 2)\n",
    "osc_cross_cov_mats = oscillators_cross_cov_mats(A, T=20)\n",
    "#Run the 'MI vs. dimensionality' analysis for both systems\n",
    "#pi_lorenz, labels = mi_vs_dim(lorenz_cross_cov_mats[0], lorenz_cross_cov_mats[2].T, n_init=20)\n",
    "pi_osc, labels = mi_vs_dim(osc_cross_cov_mats[0], osc_cross_cov_mats[10].T,\n",
    "                           XoL[:, :20], XoL[:, 20:], n_init=1)\n",
    "\n",
    "#np.savez(\"cached_fig_data/methods_comp.npz\", pi_lorenz=pi_lorenz, pi_osc=pi_osc, labels=labels)"
   ]
  },
  {
   "cell_type": "code",
   "execution_count": 26,
   "metadata": {},
   "outputs": [],
   "source": [
    "#np.savez(\"methods_comp.npz\", pi_lorenz=pi_lorenz, pi_osc=pi_osc, labels=labels)"
   ]
  },
  {
   "cell_type": "code",
   "execution_count": 29,
   "metadata": {
    "scrolled": false
   },
   "outputs": [
    {
     "data": {
      "image/png": "[encoded data removed]",
      "text/plain": [
       "<Figure size 720x720 with 1 Axes>"
      ]
     },
     "metadata": {
      "needs_background": "light"
     },
     "output_type": "display_data"
    },
    {
     "data": {
      "image/png": "[encoded data removed]",
      "text/plain": [
       "<Figure size 720x720 with 1 Axes>"
      ]
     },
     "metadata": {
      "needs_background": "light"
     },
     "output_type": "display_data"
    }
   ],
   "source": [
    "#Plot results!\n",
    "\n",
    "#d1 = np.load(\"methods_comp.npz\")\n",
    "#pi_osc=d1[\"pi_osc\"]\n",
    "#pi_lorenz = d1['pi_lorenz']\n",
    "#labels=d1[\"labels\"]\n",
    "\n",
    "fig, ax = plt.subplots(1, figsize=(10, 10))\n",
    "\n",
    "plot_mi_vs_dim(pi_osc, labels, ax, legend=True, title=\"Coupled Oscillators\", xlabel=True)\n",
    "\n",
    "fig, ax = plt.subplots(1, figsize=(10, 10))\n",
    "#plot_mi_vs_dim(pi_lorenz, labels, ax, max_dim=5, title=\"Embedded Lorenz Attractor\", xlabel=True)\n",
    "#plot_dca_autocorr_fns(ax1, ax_inset, autocorr_fn_1, autocorr_fn_2)\n",
    "\n",
    "#plt.savefig(\"figures/methods_comp.pdf\")\n"
   ]
  },
  {
   "cell_type": "code",
   "execution_count": 33,
   "metadata": {},
   "outputs": [
    {
     "data": {
      "text/plain": [
       "array([-0.04588465, -0.05087037, -0.0523901 , -0.07358455, -0.06836195,\n",
       "       -0.06978424, -0.0544801 , -0.04466011, -0.03888999, -0.04877188,\n",
       "        0.00052053,  0.00324513, -0.00301282,  0.02216823,  0.01161222,\n",
       "        0.01833487,  0.00279645, -0.00241684, -0.00736934,  0.00619687,\n",
       "       -0.04575699, -0.05080022, -0.05261687, -0.07372342, -0.0684067 ,\n",
       "       -0.0697871 , -0.05450442, -0.04476193, -0.0389459 , -0.04862112,\n",
       "        0.00038964,  0.00319871, -0.00293248,  0.02215927,  0.0115917 ,\n",
       "        0.01824558,  0.00290427, -0.00246648, -0.00739038,  0.0063787 ])"
      ]
     },
     "execution_count": 33,
     "metadata": {},
     "output_type": "execute_result"
    }
   ],
   "source": [
    "XoL.mean(axis=0)"
   ]
  },
  {
   "cell_type": "code",
   "execution_count": 22,
   "metadata": {},
   "outputs": [],
   "source": [
    "A = oscillators_dynamics_mat(N=10)\n",
    "Xo = sample_oscillators(A, 2400000)[::20]\n",
    "XoL = form_lag_matrix(Xo, 2)\n",
    "osc_cross_cov_mats = oscillators_cross_cov_mats(A, T=20)"
   ]
  },
  {
   "cell_type": "code",
   "execution_count": 23,
   "metadata": {},
   "outputs": [],
   "source": [
    "XoL -= XoL.mean(axis=0, keepdims=True)"
   ]
  },
  {
   "cell_type": "code",
   "execution_count": 35,
   "metadata": {},
   "outputs": [
    {
     "data": {
      "text/plain": [
       "(2, 20, 20)"
      ]
     },
     "execution_count": 35,
     "metadata": {},
     "output_type": "execute_result"
    }
   ],
   "source": [
    "osc_cross_cov_mats[[0, 10]].shape"
   ]
  },
  {
   "cell_type": "code",
   "execution_count": 38,
   "metadata": {},
   "outputs": [],
   "source": [
    "cov = np.cov(XoL, rowvar=False)"
   ]
  },
  {
   "cell_type": "code",
   "execution_count": 40,
   "metadata": {},
   "outputs": [
    {
     "data": {
      "text/plain": [
       "False"
      ]
     },
     "execution_count": 40,
     "metadata": {},
     "output_type": "execute_result"
    }
   ],
   "source": [
    "np.allclose(cov[:20, :20], osc_cross_cov_mats[0])"
   ]
  },
  {
   "cell_type": "code",
   "execution_count": 44,
   "metadata": {},
   "outputs": [
    {
     "data": {
      "text/plain": [
       "<matplotlib.collections.PathCollection at 0x1c226e27b8>"
      ]
     },
     "execution_count": 44,
     "metadata": {},
     "output_type": "execute_result"
    },
    {
     "data": {
      "image/png": "[encoded data removed]",
      "text/plain": [
       "<Figure size 432x288 with 1 Axes>"
      ]
     },
     "metadata": {
      "needs_background": "light"
     },
     "output_type": "display_data"
    }
   ],
   "source": [
    "plt.scatter(cov[:20, :20].ravel(), osc_cross_cov_mats[0].ravel())"
   ]
  },
  {
   "cell_type": "code",
   "execution_count": 46,
   "metadata": {},
   "outputs": [
    {
     "data": {
      "text/plain": [
       "<matplotlib.collections.PathCollection at 0x1c248b1320>"
      ]
     },
     "execution_count": 46,
     "metadata": {},
     "output_type": "execute_result"
    },
    {
     "data": {
      "image/png": "[encoded data removed]",
      "text/plain": [
       "<Figure size 432x288 with 1 Axes>"
      ]
     },
     "metadata": {
      "needs_background": "light"
     },
     "output_type": "display_data"
    }
   ],
   "source": [
    "plt.scatter(cov[20:, :20].T.ravel(), osc_cross_cov_mats[10].ravel())"
   ]
  },
  {
   "cell_type": "code",
   "execution_count": 25,
   "metadata": {},
   "outputs": [],
   "source": [
    "model0 = CCA(n_components=3)"
   ]
  },
  {
   "cell_type": "code",
   "execution_count": 26,
   "metadata": {},
   "outputs": [],
   "source": [
    "model1 = CCA(n_components=1)"
   ]
  },
  {
   "cell_type": "code",
   "execution_count": 27,
   "metadata": {},
   "outputs": [
    {
     "data": {
      "text/plain": [
       "CCA(copy=True, max_iter=500, n_components=1, scale=True, tol=1e-06)"
      ]
     },
     "execution_count": 27,
     "metadata": {},
     "output_type": "execute_result"
    }
   ],
   "source": [
    "model0.fit(XoL[:, :20], XoL[:, 20:])\n",
    "model1.fit(XoL[:, :20], XoL[:, 20:])"
   ]
  },
  {
   "cell_type": "code",
   "execution_count": 28,
   "metadata": {},
   "outputs": [
    {
     "data": {
      "text/plain": [
       "array([[-0.09570211,  0.0159072 ,  0.14201104],\n",
       "       [-0.09794525, -0.10836462,  0.12194202],\n",
       "       [-0.10092733, -0.16023852,  0.07906204],\n",
       "       [-0.09773809, -0.15732161, -0.0554076 ],\n",
       "       [-0.09666526, -0.07004207, -0.14723012],\n",
       "       [-0.09456359, -0.0014658 , -0.1521982 ],\n",
       "       [-0.09967265,  0.07890631, -0.12839941],\n",
       "       [-0.09769661,  0.15076855, -0.03989927],\n",
       "       [-0.09911511,  0.14228663,  0.06106513],\n",
       "       [-0.09798771,  0.11911691,  0.12303432],\n",
       "       [ 0.29990118, -0.00287609, -0.39512192],\n",
       "       [ 0.29993086,  0.27222582, -0.33323226],\n",
       "       [ 0.30065082,  0.42104968, -0.12737822],\n",
       "       [ 0.30055692,  0.40144869,  0.15078791],\n",
       "       [ 0.299438  ,  0.24184894,  0.35393143],\n",
       "       [ 0.30081502,  0.0065503 ,  0.43910145],\n",
       "       [ 0.29828932, -0.25015567,  0.34595314],\n",
       "       [ 0.30053574, -0.37027206,  0.12371457],\n",
       "       [ 0.30323384, -0.38286721, -0.11945874],\n",
       "       [ 0.30379475, -0.22979598, -0.31862553]])"
      ]
     },
     "execution_count": 28,
     "metadata": {},
     "output_type": "execute_result"
    }
   ],
   "source": [
    "model0.x_rotations_"
   ]
  },
  {
   "cell_type": "code",
   "execution_count": 29,
   "metadata": {},
   "outputs": [
    {
     "data": {
      "text/plain": [
       "array([[ 1.        ,  0.02979516,  0.03311629],\n",
       "       [ 0.02979516,  1.00088775, -0.00477191],\n",
       "       [ 0.03311629, -0.00477191,  1.00112985]])"
      ]
     },
     "execution_count": 29,
     "metadata": {},
     "output_type": "execute_result"
    }
   ],
   "source": [
    "model0.x_rotations_.T.dot(model0.x_rotations_)"
   ]
  },
  {
   "cell_type": "code",
   "execution_count": 30,
   "metadata": {},
   "outputs": [
    {
     "data": {
      "text/plain": [
       "array([[-0.09570211],\n",
       "       [-0.09794525],\n",
       "       [-0.10092733],\n",
       "       [-0.09773809],\n",
       "       [-0.09666526],\n",
       "       [-0.09456359],\n",
       "       [-0.09967265],\n",
       "       [-0.09769661],\n",
       "       [-0.09911511],\n",
       "       [-0.09798771],\n",
       "       [ 0.29990118],\n",
       "       [ 0.29993086],\n",
       "       [ 0.30065082],\n",
       "       [ 0.30055692],\n",
       "       [ 0.299438  ],\n",
       "       [ 0.30081502],\n",
       "       [ 0.29828932],\n",
       "       [ 0.30053574],\n",
       "       [ 0.30323384],\n",
       "       [ 0.30379475]])"
      ]
     },
     "execution_count": 30,
     "metadata": {},
     "output_type": "execute_result"
    }
   ],
   "source": [
    "model1.x_weights_"
   ]
  },
  {
   "cell_type": "code",
   "execution_count": null,
   "metadata": {},
   "outputs": [],
   "source": []
  }
 ],
 "metadata": {
  "kernelspec": {
   "display_name": "Python 3",
   "language": "python",
   "name": "python3"
  },
  "language_info": {
   "codemirror_mode": {
    "name": "ipython",
    "version": 3
   },
   "file_extension": ".py",
   "mimetype": "text/x-python",
   "name": "python",
   "nbconvert_exporter": "python",
   "pygments_lexer": "ipython3",
   "version": "3.6.8"
  }
 },
 "nbformat": 4,
 "nbformat_minor": 2
}
