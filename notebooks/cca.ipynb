{
 "cells": [
  {
   "cell_type": "code",
   "execution_count": 1,
   "metadata": {},
   "outputs": [],
   "source": [
    "import numpy as np\n",
    "import matplotlib.pyplot as plt\n",
    "import matplotlib.patches as patches\n",
    "import os\n",
    "from sklearn.cross_decomposition import CCA\n",
    "\n",
    "from statsmodels.multivariate.cancorr import CanCorr\n",
    "\n",
    "import scipy\n",
    "from dca.synth_data import (embedded_lorenz_cross_cov_mats, oscillators_dynamics_mat,\n",
    "                            oscillators_cross_cov_mats, sample_oscillators)\n",
    "from dca import style, DynamicalComponentsAnalysis\n",
    "from dca.cov_util import calc_cross_cov_mats_from_data\n",
    "from dca.data_util import form_lag_matrix\n",
    "\n",
    "from dca_research import pf_dca"
   ]
  },
  {
   "cell_type": "code",
   "execution_count": 2,
   "metadata": {},
   "outputs": [],
   "source": [
    "def calc_neg_sqrt(X, min_eigval=1e-5):\n",
    "    w, V = scipy.linalg.eigh(X)\n",
    "    if np.min(w) < min_eigval:\n",
    "        w += (-np.min(w) + min_eigval)\n",
    "    cov_neg_sqrt = V.dot(np.diag(1. / np.sqrt(w))).dot(V.T)\n",
    "    return cov_neg_sqrt\n",
    "\n",
    "def cca_proj(cov_11, cov_12):\n",
    "    cov_neg_sqrt = calc_neg_sqrt(cov_11)\n",
    "    to_svd = cov_neg_sqrt.dot(cov_12).dot(cov_neg_sqrt)\n",
    "    U, s, Vt = scipy.linalg.svd(to_svd)\n",
    "    V = Vt.T\n",
    "    U = np.dot(cov_neg_sqrt, U)\n",
    "    V = np.dot(cov_neg_sqrt, V)\n",
    "    U /= np.sqrt(np.sum(U**2, axis=0))\n",
    "    V /= np.sqrt(np.sum(V**2, axis=0))\n",
    "    return U, V\n",
    "\n",
    "def cca_proj2(X, Y):\n",
    "    \"\"\"\n",
    "    model = CanCorr(X, Y)\n",
    "    return model.x_cancoef.T, model.y_cancoef.T\n",
    "    \"\"\"\n",
    "    model = CCA()\n",
    "    model.fit(X, Y)\n",
    "    return model.x_weights_, model.y_weights_\n",
    "    \n",
    "\n",
    "def pf_dca_proj(cov_11, cov_12, d, n_init):\n",
    "    opt = pf_dca.PastFutureDynamicalComponentsAnalysis()\n",
    "    opt.cross_covs = np.array([cov_11, cov_12.T])\n",
    "    opt.fit_projection(d=d, n_init=n_init)\n",
    "    U, V = opt.coef_\n",
    "    return U, V\n",
    "\n",
    "def sfa_proj(cov_11, cov_12):\n",
    "    cov_neg_sqrt = calc_neg_sqrt(cov_11)\n",
    "    cov_sym = cov_12 + cov_12.T\n",
    "    to_pca = cov_neg_sqrt.dot(cov_sym).dot(cov_neg_sqrt)\n",
    "    w, V = scipy.linalg.eigh(to_pca)\n",
    "    w, V = w[::-1], V[:, ::-1]\n",
    "    #V = V[:, np.argsort(np.abs(w))[::-1]]\n",
    "    V = np.dot(cov_neg_sqrt, V)\n",
    "    V /= np.sqrt(np.sum(V**2, axis=0))\n",
    "    return V\n",
    "\n",
    "def pca_proj(cov):\n",
    "    _, V = scipy.linalg.eigh(cov)\n",
    "    V = V[:, ::-1]\n",
    "    return V\n",
    "\n",
    "def dca_proj(cov_11, cov_12, d, n_init=1):\n",
    "    opt = DynamicalComponentsAnalysis()\n",
    "    opt.cross_covs = np.array([cov_11, cov_12.T])\n",
    "    opt.fit_projection(d=d, n_init=n_init)\n",
    "    V = opt.coef_\n",
    "    return V\n",
    "\n",
    "def quad_mat(A, B, C, D):\n",
    "    top = np.concatenate((A, B), axis=1)\n",
    "    bottom = np.concatenate((C, D), axis=1)\n",
    "    mat = np.concatenate((top, bottom), axis=0)\n",
    "    return mat\n",
    "\n",
    "def calc_pi(cov_11, cov_12, U, V):\n",
    "    proj_cov_11 = U.T.dot(cov_11).dot(U)\n",
    "    proj_cov_22 = V.T.dot(cov_11).dot(V)\n",
    "    proj_cov_12 = U.T.dot(cov_12).dot(V)\n",
    "    proj_cov_21 = proj_cov_12.T\n",
    "    cov_full = quad_mat(proj_cov_11, proj_cov_12, proj_cov_21, proj_cov_22)\n",
    "    d1 = np.linalg.slogdet(proj_cov_11)[1]\n",
    "    d2 = np.linalg.slogdet(proj_cov_22)[1]\n",
    "    d3 = np.linalg.slogdet(cov_full)[1]\n",
    "    return 0.5 * (d1 + d2 - d3)\n",
    "\n",
    "def mi_vs_dim(cov_11, cov_12, X, Y, n_init=100):\n",
    "    N = cov_11.shape[0]\n",
    "    method_labels = [\"CCA\", \"CCA2\", \"DCA\", \"pfDCA\", \"SFA\", \"PCA\"]\n",
    "    pi_vals = np.zeros((len(method_labels), N))\n",
    "    U_cca, V_cca = cca_proj(cov_11, cov_12)\n",
    "    U_cca2, V_cca2 = cca_proj2(X, Y)\n",
    "    V_pca = pca_proj(cov_11)\n",
    "    V_sfa = sfa_proj(cov_11, cov_12)\n",
    "    for i in range(1, N+1):\n",
    "        print(i)\n",
    "        pi_cca = calc_pi(cov_11, cov_12, U_cca[:, :i], V_cca[:, :i])\n",
    "        pi_cca2 = calc_pi(cov_11, cov_12, U_cca2[:, :i], V_cca2[:, :i])\n",
    "        V_dca = dca_proj(cov_11, cov_12, i, n_init=n_init)\n",
    "        Up, Vf = pf_dca_proj(cov_11, cov_12, i, n_init=n_init)\n",
    "        pi_pf = calc_pi(cov_11, cov_12, Up, Vf)\n",
    "        pi_dca = calc_pi(cov_11, cov_12, V_dca, V_dca)\n",
    "        pi_pca = calc_pi(cov_11, cov_12, V_pca[:, :i], V_pca[:, :i])\n",
    "        pi_sfa = calc_pi(cov_11, cov_12, V_sfa[:, :i], V_sfa[:, :i])\n",
    "        pi_vals[:, i-1] = [pi_cca, pi_cca2, pi_dca, pi_pf, pi_sfa, pi_pca]\n",
    "    return pi_vals, method_labels\n",
    "    "
   ]
  },
  {
   "cell_type": "code",
   "execution_count": 46,
   "metadata": {},
   "outputs": [
    {
     "name": "stdout",
     "output_type": "stream",
     "text": [
      "1\n",
      "2\n",
      "3\n",
      "4\n",
      "5\n",
      "6\n",
      "7\n",
      "8\n",
      "9\n",
      "10\n",
      "11\n",
      "12\n",
      "13\n",
      "14\n",
      "15\n",
      "16\n",
      "17\n",
      "18\n",
      "19\n",
      "20\n"
     ]
    }
   ],
   "source": [
    "#Analysis 1: get MI vs dim for coupled oscillators and Lorenz attractors\n",
    "\n",
    "#Get cross-cov mats for all systems\n",
    "#Lorenz system\n",
    "#lorenz_cross_cov_mats = embedded_lorenz_cross_cov_mats(N=30, T=20, snr=1.)\n",
    "#Oscillator system (10 oscillators --> 20-dimensional state)\n",
    "A = oscillators_dynamics_mat(N=10)\n",
    "Xo = sample_oscillators(A, 20000)[::10]\n",
    "XoL = form_lag_matrix(Xo, 2)\n",
    "XoL -= XoL.mean(axis=0, keepdims=True)\n",
    "osc_cross_cov_mats = oscillators_cross_cov_mats(A, T=20)\n",
    "#Run the 'MI vs. dimensionality' analysis for both systems\n",
    "#pi_lorenz, labels = mi_vs_dim(lorenz_cross_cov_mats[0], lorenz_cross_cov_mats[2].T, n_init=20)\n",
    "pi_osc, labels = mi_vs_dim(osc_cross_cov_mats[0], osc_cross_cov_mats[10].T,\n",
    "                           XoL[:, :20], XoL[:, 20:], n_init=1)\n",
    "\n",
    "#np.savez(\"cached_fig_data/methods_comp.npz\", pi_lorenz=pi_lorenz, pi_osc=pi_osc, labels=labels)"
   ]
  },
  {
   "cell_type": "code",
   "execution_count": 26,
   "metadata": {},
   "outputs": [],
   "source": [
    "#np.savez(\"methods_comp.npz\", pi_lorenz=pi_lorenz, pi_osc=pi_osc, labels=labels)"
   ]
  },
  {
   "cell_type": "code",
   "execution_count": 48,
   "metadata": {
    "scrolled": false
   },
   "outputs": [
    {
     "data": {
      "text/plain": [
       "<matplotlib.legend.Legend at 0x7fda547193c8>"
      ]
     },
     "execution_count": 48,
     "metadata": {},
     "output_type": "execute_result"
    },
    {
     "data": {
      "image/png": "[encoded data removed]",
      "text/plain": [
       "<Figure size 720x720 with 1 Axes>"
      ]
     },
     "metadata": {
      "needs_background": "light"
     },
     "output_type": "display_data"
    }
   ],
   "source": [
    "#Plot results!\n",
    "\n",
    "#d1 = np.load(\"methods_comp.npz\")\n",
    "#pi_osc=d1[\"pi_osc\"]\n",
    "#pi_lorenz = d1['pi_lorenz']\n",
    "#labels=d1[\"labels\"]\n",
    "\n",
    "fig, ax = plt.subplots(1, figsize=(10, 10))\n",
    "for pi, label in zip(pi_osc, labels):\n",
    "    ax.plot(pi, label=label)\n",
    "ax.legend()\n",
    "#plot_mi_vs_dim(pi_lorenz, labels, ax, max_dim=5, title=\"Embedded Lorenz Attractor\", xlabel=True)\n",
    "#plot_dca_autocorr_fns(ax1, ax_inset, autocorr_fn_1, autocorr_fn_2)\n",
    "\n",
    "#plt.savefig(\"figures/methods_comp.pdf\")\n"
   ]
  },
  {
   "cell_type": "code",
   "execution_count": 33,
   "metadata": {},
   "outputs": [
    {
     "data": {
      "text/plain": [
       "array([-0.04588465, -0.05087037, -0.0523901 , -0.07358455, -0.06836195,\n",
       "       -0.06978424, -0.0544801 , -0.04466011, -0.03888999, -0.04877188,\n",
       "        0.00052053,  0.00324513, -0.00301282,  0.02216823,  0.01161222,\n",
       "        0.01833487,  0.00279645, -0.00241684, -0.00736934,  0.00619687,\n",
       "       -0.04575699, -0.05080022, -0.05261687, -0.07372342, -0.0684067 ,\n",
       "       -0.0697871 , -0.05450442, -0.04476193, -0.0389459 , -0.04862112,\n",
       "        0.00038964,  0.00319871, -0.00293248,  0.02215927,  0.0115917 ,\n",
       "        0.01824558,  0.00290427, -0.00246648, -0.00739038,  0.0063787 ])"
      ]
     },
     "execution_count": 33,
     "metadata": {},
     "output_type": "execute_result"
    }
   ],
   "source": [
    "XoL.mean(axis=0)"
   ]
  },
  {
   "cell_type": "code",
   "execution_count": 3,
   "metadata": {},
   "outputs": [
    {
     "ename": "KeyboardInterrupt",
     "evalue": "",
     "output_type": "error",
     "traceback": [
      "\u001b[0;31m---------------------------------------------------------------------------\u001b[0m",
      "\u001b[0;31mKeyboardInterrupt\u001b[0m                         Traceback (most recent call last)",
      "\u001b[0;32m<ipython-input-3-45568e6d1800>\u001b[0m in \u001b[0;36m<module>\u001b[0;34m()\u001b[0m\n\u001b[1;32m      1\u001b[0m \u001b[0mA\u001b[0m \u001b[0;34m=\u001b[0m \u001b[0moscillators_dynamics_mat\u001b[0m\u001b[0;34m(\u001b[0m\u001b[0mN\u001b[0m\u001b[0;34m=\u001b[0m\u001b[0;36m10\u001b[0m\u001b[0;34m)\u001b[0m\u001b[0;34m\u001b[0m\u001b[0;34m\u001b[0m\u001b[0m\n\u001b[0;32m----> 2\u001b[0;31m \u001b[0mXo\u001b[0m \u001b[0;34m=\u001b[0m \u001b[0msample_oscillators\u001b[0m\u001b[0;34m(\u001b[0m\u001b[0mA\u001b[0m\u001b[0;34m,\u001b[0m \u001b[0;36m2400000\u001b[0m\u001b[0;34m)\u001b[0m\u001b[0;34m[\u001b[0m\u001b[0;34m:\u001b[0m\u001b[0;34m:\u001b[0m\u001b[0;36m10\u001b[0m\u001b[0;34m]\u001b[0m\u001b[0;34m\u001b[0m\u001b[0;34m\u001b[0m\u001b[0m\n\u001b[0m\u001b[1;32m      3\u001b[0m \u001b[0mXoL\u001b[0m \u001b[0;34m=\u001b[0m \u001b[0mform_lag_matrix\u001b[0m\u001b[0;34m(\u001b[0m\u001b[0mXo\u001b[0m\u001b[0;34m,\u001b[0m \u001b[0;36m2\u001b[0m\u001b[0;34m)\u001b[0m\u001b[0;34m\u001b[0m\u001b[0;34m\u001b[0m\u001b[0m\n\u001b[1;32m      4\u001b[0m \u001b[0mosc_cross_cov_mats\u001b[0m \u001b[0;34m=\u001b[0m \u001b[0moscillators_cross_cov_mats\u001b[0m\u001b[0;34m(\u001b[0m\u001b[0mA\u001b[0m\u001b[0;34m,\u001b[0m \u001b[0mT\u001b[0m\u001b[0;34m=\u001b[0m\u001b[0;36m20\u001b[0m\u001b[0;34m)\u001b[0m\u001b[0;34m\u001b[0m\u001b[0;34m\u001b[0m\u001b[0m\n",
      "\u001b[0;32m~/Development/DynamicalComponentsAnalysis/dca/synth_data.py\u001b[0m in \u001b[0;36msample_oscillators\u001b[0;34m(A, T, sigma)\u001b[0m\n\u001b[1;32m    290\u001b[0m     \u001b[0;32mfor\u001b[0m \u001b[0mi\u001b[0m \u001b[0;32min\u001b[0m \u001b[0mrange\u001b[0m\u001b[0;34m(\u001b[0m\u001b[0;36m1\u001b[0m\u001b[0;34m,\u001b[0m \u001b[0mT\u001b[0m\u001b[0;34m)\u001b[0m\u001b[0;34m:\u001b[0m\u001b[0;34m\u001b[0m\u001b[0;34m\u001b[0m\u001b[0m\n\u001b[1;32m    291\u001b[0m         \u001b[0mz\u001b[0m\u001b[0;34m[\u001b[0m\u001b[0mi\u001b[0m\u001b[0;34m]\u001b[0m \u001b[0;34m=\u001b[0m \u001b[0mnp\u001b[0m\u001b[0;34m.\u001b[0m\u001b[0mdot\u001b[0m\u001b[0;34m(\u001b[0m\u001b[0mA\u001b[0m\u001b[0;34m,\u001b[0m \u001b[0mz\u001b[0m\u001b[0;34m[\u001b[0m\u001b[0mi\u001b[0m \u001b[0;34m-\u001b[0m \u001b[0;36m1\u001b[0m\u001b[0;34m]\u001b[0m\u001b[0;34m)\u001b[0m\u001b[0;34m\u001b[0m\u001b[0;34m\u001b[0m\u001b[0m\n\u001b[0;32m--> 292\u001b[0;31m         \u001b[0mz\u001b[0m\u001b[0;34m[\u001b[0m\u001b[0mi\u001b[0m\u001b[0;34m,\u001b[0m \u001b[0;34m:\u001b[0m\u001b[0mN\u001b[0m\u001b[0;34m]\u001b[0m \u001b[0;34m+=\u001b[0m \u001b[0mnp\u001b[0m\u001b[0;34m.\u001b[0m\u001b[0mrandom\u001b[0m\u001b[0;34m.\u001b[0m\u001b[0mnormal\u001b[0m\u001b[0;34m(\u001b[0m\u001b[0;36m0\u001b[0m\u001b[0;34m,\u001b[0m \u001b[0msigma\u001b[0m\u001b[0;34m,\u001b[0m \u001b[0mN\u001b[0m\u001b[0;34m)\u001b[0m\u001b[0;34m\u001b[0m\u001b[0;34m\u001b[0m\u001b[0m\n\u001b[0m\u001b[1;32m    293\u001b[0m     \u001b[0;32mreturn\u001b[0m \u001b[0mz\u001b[0m\u001b[0;34m\u001b[0m\u001b[0;34m\u001b[0m\u001b[0m\n\u001b[1;32m    294\u001b[0m \u001b[0;34m\u001b[0m\u001b[0m\n",
      "\u001b[0;31mKeyboardInterrupt\u001b[0m: "
     ]
    }
   ],
   "source": [
    "A = oscillators_dynamics_mat(N=10)\n",
    "Xo = sample_oscillators(A, 2400000)[::10]\n",
    "XoL = form_lag_matrix(Xo, 2)\n",
    "osc_cross_cov_mats = oscillators_cross_cov_mats(A, T=20)"
   ]
  },
  {
   "cell_type": "code",
   "execution_count": 4,
   "metadata": {},
   "outputs": [],
   "source": [
    "XoL -= XoL.mean(axis=0, keepdims=True)"
   ]
  },
  {
   "cell_type": "code",
   "execution_count": 5,
   "metadata": {},
   "outputs": [
    {
     "data": {
      "text/plain": [
       "(2, 20, 20)"
      ]
     },
     "execution_count": 5,
     "metadata": {},
     "output_type": "execute_result"
    }
   ],
   "source": [
    "osc_cross_cov_mats[[0, 10]].shape"
   ]
  },
  {
   "cell_type": "code",
   "execution_count": 6,
   "metadata": {},
   "outputs": [],
   "source": [
    "cov = np.cov(XoL, rowvar=False)"
   ]
  },
  {
   "cell_type": "code",
   "execution_count": 7,
   "metadata": {},
   "outputs": [
    {
     "data": {
      "text/plain": [
       "False"
      ]
     },
     "execution_count": 7,
     "metadata": {},
     "output_type": "execute_result"
    }
   ],
   "source": [
    "np.allclose(cov[:20, :20], osc_cross_cov_mats[0])"
   ]
  },
  {
   "cell_type": "code",
   "execution_count": 10,
   "metadata": {},
   "outputs": [
    {
     "data": {
      "text/plain": [
       "<matplotlib.collections.PathCollection at 0x7f5174136da0>"
      ]
     },
     "execution_count": 10,
     "metadata": {},
     "output_type": "execute_result"
    },
    {
     "data": {
      "image/png": "[encoded data removed]",
      "text/plain": [
       "<Figure size 216x216 with 1 Axes>"
      ]
     },
     "metadata": {
      "needs_background": "light"
     },
     "output_type": "display_data"
    }
   ],
   "source": [
    "plt.figure(figsize=(3, 3))\n",
    "plt.scatter(cov[:20, :20].ravel(), osc_cross_cov_mats[0].ravel(), marker='.')"
   ]
  },
  {
   "cell_type": "code",
   "execution_count": 12,
   "metadata": {},
   "outputs": [
    {
     "data": {
      "text/plain": [
       "<matplotlib.collections.PathCollection at 0x7f51740dca20>"
      ]
     },
     "execution_count": 12,
     "metadata": {},
     "output_type": "execute_result"
    },
    {
     "data": {
      "image/png": "[encoded data removed]",
      "text/plain": [
       "<Figure size 432x288 with 1 Axes>"
      ]
     },
     "metadata": {
      "needs_background": "light"
     },
     "output_type": "display_data"
    }
   ],
   "source": [
    "plt.scatter(cov[20:, :20].ravel(), osc_cross_cov_mats[10].ravel())"
   ]
  },
  {
   "cell_type": "code",
   "execution_count": 33,
   "metadata": {},
   "outputs": [],
   "source": [
    "model0 = CCA(n_components=3)"
   ]
  },
  {
   "cell_type": "code",
   "execution_count": 14,
   "metadata": {},
   "outputs": [],
   "source": [
    "model1 = CCA(n_components=1)"
   ]
  },
  {
   "cell_type": "code",
   "execution_count": 34,
   "metadata": {},
   "outputs": [
    {
     "data": {
      "text/plain": [
       "CCA(copy=True, max_iter=500, n_components=1, scale=True, tol=1e-06)"
      ]
     },
     "execution_count": 34,
     "metadata": {},
     "output_type": "execute_result"
    }
   ],
   "source": [
    "model0.fit(XoL[:, :20], XoL[:, 20:])\n",
    "model1.fit(XoL[:, :20], XoL[:, 20:])"
   ]
  },
  {
   "cell_type": "code",
   "execution_count": 29,
   "metadata": {},
   "outputs": [],
   "source": [
    "A = oscillators_dynamics_mat(N=10)\n",
    "osc_cross_cov_mats = oscillators_cross_cov_mats(A, T=20)\n",
    "U, V = cca_proj(osc_cross_cov_mats[0], osc_cross_cov_mats[10].T)"
   ]
  },
  {
   "cell_type": "code",
   "execution_count": 58,
   "metadata": {},
   "outputs": [],
   "source": [
    "cca_pi = []\n",
    "#pf_pi = []\n",
    "dims = np.arange(1, 20)\n",
    "for d in dims:\n",
    "    Ud = U[:, :d]\n",
    "    Vd = V[:, :d]\n",
    "    pfmodel0 = pf_dca.PastFutureDynamicalComponentsAnalysis(T=1, d=d, n_init=5)\n",
    "    pfmodel0.cross_covs = np.array([osc_cross_cov_mats[0], osc_cross_cov_mats[10].T])\n",
    "    pfmodel0.fit_projection()\n",
    "    pf_pi.append(pfmodel0.score())\n",
    "    #pf_pi.append(calc_pi(osc_cross_cov_mats[0], osc_cross_cov_mats[1], pfmodel0.coef_[0], pfmodel0.coef_[1]))\n",
    "\n",
    "    pfmodel1 = pf_dca.PastFutureDynamicalComponentsAnalysis(T=1, d=d)\n",
    "    pfmodel1.cross_covs = np.array([osc_cross_cov_mats[0], osc_cross_cov_mats[10].T])\n",
    "    pfmodel1.coef_ = Ud, Vd\n",
    "    cca_pi.append(pfmodel1.score())\n",
    "    #cca_pi.append(calc_pi(osc_cross_cov_mats[0], osc_cross_cov_mats[1], Ud, Vd))"
   ]
  },
  {
   "cell_type": "code",
   "execution_count": 59,
   "metadata": {},
   "outputs": [
    {
     "ename": "ValueError",
     "evalue": "x and y must have same first dimension, but have shapes (19,) and (38,)",
     "output_type": "error",
     "traceback": [
      "\u001b[0;31m---------------------------------------------------------------------------\u001b[0m",
      "\u001b[0;31mValueError\u001b[0m                                Traceback (most recent call last)",
      "\u001b[0;32m<ipython-input-59-8cf422fd2100>\u001b[0m in \u001b[0;36m<module>\u001b[0;34m()\u001b[0m\n\u001b[0;32m----> 1\u001b[0;31m \u001b[0mplt\u001b[0m\u001b[0;34m.\u001b[0m\u001b[0mplot\u001b[0m\u001b[0;34m(\u001b[0m\u001b[0mdims\u001b[0m\u001b[0;34m,\u001b[0m \u001b[0mpf_pi\u001b[0m\u001b[0;34m)\u001b[0m\u001b[0;34m\u001b[0m\u001b[0;34m\u001b[0m\u001b[0m\n\u001b[0m\u001b[1;32m      2\u001b[0m \u001b[0mplt\u001b[0m\u001b[0;34m.\u001b[0m\u001b[0mplot\u001b[0m\u001b[0;34m(\u001b[0m\u001b[0mdims\u001b[0m\u001b[0;34m,\u001b[0m \u001b[0mcca_pi\u001b[0m\u001b[0;34m)\u001b[0m\u001b[0;34m\u001b[0m\u001b[0;34m\u001b[0m\u001b[0m\n",
      "\u001b[0;32m~/anaconda3/envs/dca/lib/python3.6/site-packages/matplotlib/pyplot.py\u001b[0m in \u001b[0;36mplot\u001b[0;34m(scalex, scaley, data, *args, **kwargs)\u001b[0m\n\u001b[1;32m   2809\u001b[0m     return gca().plot(\n\u001b[1;32m   2810\u001b[0m         *args, scalex=scalex, scaley=scaley, **({\"data\": data} if data\n\u001b[0;32m-> 2811\u001b[0;31m         is not None else {}), **kwargs)\n\u001b[0m\u001b[1;32m   2812\u001b[0m \u001b[0;34m\u001b[0m\u001b[0m\n\u001b[1;32m   2813\u001b[0m \u001b[0;34m\u001b[0m\u001b[0m\n",
      "\u001b[0;32m~/anaconda3/envs/dca/lib/python3.6/site-packages/matplotlib/__init__.py\u001b[0m in \u001b[0;36minner\u001b[0;34m(ax, data, *args, **kwargs)\u001b[0m\n\u001b[1;32m   1808\u001b[0m                         \u001b[0;34m\"the Matplotlib list!)\"\u001b[0m \u001b[0;34m%\u001b[0m \u001b[0;34m(\u001b[0m\u001b[0mlabel_namer\u001b[0m\u001b[0;34m,\u001b[0m \u001b[0mfunc\u001b[0m\u001b[0;34m.\u001b[0m\u001b[0m__name__\u001b[0m\u001b[0;34m)\u001b[0m\u001b[0;34m,\u001b[0m\u001b[0;34m\u001b[0m\u001b[0;34m\u001b[0m\u001b[0m\n\u001b[1;32m   1809\u001b[0m                         RuntimeWarning, stacklevel=2)\n\u001b[0;32m-> 1810\u001b[0;31m             \u001b[0;32mreturn\u001b[0m \u001b[0mfunc\u001b[0m\u001b[0;34m(\u001b[0m\u001b[0max\u001b[0m\u001b[0;34m,\u001b[0m \u001b[0;34m*\u001b[0m\u001b[0margs\u001b[0m\u001b[0;34m,\u001b[0m \u001b[0;34m**\u001b[0m\u001b[0mkwargs\u001b[0m\u001b[0;34m)\u001b[0m\u001b[0;34m\u001b[0m\u001b[0;34m\u001b[0m\u001b[0m\n\u001b[0m\u001b[1;32m   1811\u001b[0m \u001b[0;34m\u001b[0m\u001b[0m\n\u001b[1;32m   1812\u001b[0m         inner.__doc__ = _add_data_doc(inner.__doc__,\n",
      "\u001b[0;32m~/anaconda3/envs/dca/lib/python3.6/site-packages/matplotlib/axes/_axes.py\u001b[0m in \u001b[0;36mplot\u001b[0;34m(self, scalex, scaley, *args, **kwargs)\u001b[0m\n\u001b[1;32m   1609\u001b[0m         \u001b[0mkwargs\u001b[0m \u001b[0;34m=\u001b[0m \u001b[0mcbook\u001b[0m\u001b[0;34m.\u001b[0m\u001b[0mnormalize_kwargs\u001b[0m\u001b[0;34m(\u001b[0m\u001b[0mkwargs\u001b[0m\u001b[0;34m,\u001b[0m \u001b[0mmlines\u001b[0m\u001b[0;34m.\u001b[0m\u001b[0mLine2D\u001b[0m\u001b[0;34m.\u001b[0m\u001b[0m_alias_map\u001b[0m\u001b[0;34m)\u001b[0m\u001b[0;34m\u001b[0m\u001b[0;34m\u001b[0m\u001b[0m\n\u001b[1;32m   1610\u001b[0m \u001b[0;34m\u001b[0m\u001b[0m\n\u001b[0;32m-> 1611\u001b[0;31m         \u001b[0;32mfor\u001b[0m \u001b[0mline\u001b[0m \u001b[0;32min\u001b[0m \u001b[0mself\u001b[0m\u001b[0;34m.\u001b[0m\u001b[0m_get_lines\u001b[0m\u001b[0;34m(\u001b[0m\u001b[0;34m*\u001b[0m\u001b[0margs\u001b[0m\u001b[0;34m,\u001b[0m \u001b[0;34m**\u001b[0m\u001b[0mkwargs\u001b[0m\u001b[0;34m)\u001b[0m\u001b[0;34m:\u001b[0m\u001b[0;34m\u001b[0m\u001b[0;34m\u001b[0m\u001b[0m\n\u001b[0m\u001b[1;32m   1612\u001b[0m             \u001b[0mself\u001b[0m\u001b[0;34m.\u001b[0m\u001b[0madd_line\u001b[0m\u001b[0;34m(\u001b[0m\u001b[0mline\u001b[0m\u001b[0;34m)\u001b[0m\u001b[0;34m\u001b[0m\u001b[0;34m\u001b[0m\u001b[0m\n\u001b[1;32m   1613\u001b[0m             \u001b[0mlines\u001b[0m\u001b[0;34m.\u001b[0m\u001b[0mappend\u001b[0m\u001b[0;34m(\u001b[0m\u001b[0mline\u001b[0m\u001b[0;34m)\u001b[0m\u001b[0;34m\u001b[0m\u001b[0;34m\u001b[0m\u001b[0m\n",
      "\u001b[0;32m~/anaconda3/envs/dca/lib/python3.6/site-packages/matplotlib/axes/_base.py\u001b[0m in \u001b[0;36m_grab_next_args\u001b[0;34m(self, *args, **kwargs)\u001b[0m\n\u001b[1;32m    391\u001b[0m                 \u001b[0mthis\u001b[0m \u001b[0;34m+=\u001b[0m \u001b[0margs\u001b[0m\u001b[0;34m[\u001b[0m\u001b[0;36m0\u001b[0m\u001b[0;34m]\u001b[0m\u001b[0;34m,\u001b[0m\u001b[0;34m\u001b[0m\u001b[0;34m\u001b[0m\u001b[0m\n\u001b[1;32m    392\u001b[0m                 \u001b[0margs\u001b[0m \u001b[0;34m=\u001b[0m \u001b[0margs\u001b[0m\u001b[0;34m[\u001b[0m\u001b[0;36m1\u001b[0m\u001b[0;34m:\u001b[0m\u001b[0;34m]\u001b[0m\u001b[0;34m\u001b[0m\u001b[0;34m\u001b[0m\u001b[0m\n\u001b[0;32m--> 393\u001b[0;31m             \u001b[0;32myield\u001b[0m \u001b[0;32mfrom\u001b[0m \u001b[0mself\u001b[0m\u001b[0;34m.\u001b[0m\u001b[0m_plot_args\u001b[0m\u001b[0;34m(\u001b[0m\u001b[0mthis\u001b[0m\u001b[0;34m,\u001b[0m \u001b[0mkwargs\u001b[0m\u001b[0;34m)\u001b[0m\u001b[0;34m\u001b[0m\u001b[0;34m\u001b[0m\u001b[0m\n\u001b[0m\u001b[1;32m    394\u001b[0m \u001b[0;34m\u001b[0m\u001b[0m\n\u001b[1;32m    395\u001b[0m \u001b[0;34m\u001b[0m\u001b[0m\n",
      "\u001b[0;32m~/anaconda3/envs/dca/lib/python3.6/site-packages/matplotlib/axes/_base.py\u001b[0m in \u001b[0;36m_plot_args\u001b[0;34m(self, tup, kwargs)\u001b[0m\n\u001b[1;32m    368\u001b[0m             \u001b[0mx\u001b[0m\u001b[0;34m,\u001b[0m \u001b[0my\u001b[0m \u001b[0;34m=\u001b[0m \u001b[0mindex_of\u001b[0m\u001b[0;34m(\u001b[0m\u001b[0mtup\u001b[0m\u001b[0;34m[\u001b[0m\u001b[0;34m-\u001b[0m\u001b[0;36m1\u001b[0m\u001b[0;34m]\u001b[0m\u001b[0;34m)\u001b[0m\u001b[0;34m\u001b[0m\u001b[0;34m\u001b[0m\u001b[0m\n\u001b[1;32m    369\u001b[0m \u001b[0;34m\u001b[0m\u001b[0m\n\u001b[0;32m--> 370\u001b[0;31m         \u001b[0mx\u001b[0m\u001b[0;34m,\u001b[0m \u001b[0my\u001b[0m \u001b[0;34m=\u001b[0m \u001b[0mself\u001b[0m\u001b[0;34m.\u001b[0m\u001b[0m_xy_from_xy\u001b[0m\u001b[0;34m(\u001b[0m\u001b[0mx\u001b[0m\u001b[0;34m,\u001b[0m \u001b[0my\u001b[0m\u001b[0;34m)\u001b[0m\u001b[0;34m\u001b[0m\u001b[0;34m\u001b[0m\u001b[0m\n\u001b[0m\u001b[1;32m    371\u001b[0m \u001b[0;34m\u001b[0m\u001b[0m\n\u001b[1;32m    372\u001b[0m         \u001b[0;32mif\u001b[0m \u001b[0mself\u001b[0m\u001b[0;34m.\u001b[0m\u001b[0mcommand\u001b[0m \u001b[0;34m==\u001b[0m \u001b[0;34m'plot'\u001b[0m\u001b[0;34m:\u001b[0m\u001b[0;34m\u001b[0m\u001b[0;34m\u001b[0m\u001b[0m\n",
      "\u001b[0;32m~/anaconda3/envs/dca/lib/python3.6/site-packages/matplotlib/axes/_base.py\u001b[0m in \u001b[0;36m_xy_from_xy\u001b[0;34m(self, x, y)\u001b[0m\n\u001b[1;32m    229\u001b[0m         \u001b[0;32mif\u001b[0m \u001b[0mx\u001b[0m\u001b[0;34m.\u001b[0m\u001b[0mshape\u001b[0m\u001b[0;34m[\u001b[0m\u001b[0;36m0\u001b[0m\u001b[0;34m]\u001b[0m \u001b[0;34m!=\u001b[0m \u001b[0my\u001b[0m\u001b[0;34m.\u001b[0m\u001b[0mshape\u001b[0m\u001b[0;34m[\u001b[0m\u001b[0;36m0\u001b[0m\u001b[0;34m]\u001b[0m\u001b[0;34m:\u001b[0m\u001b[0;34m\u001b[0m\u001b[0;34m\u001b[0m\u001b[0m\n\u001b[1;32m    230\u001b[0m             raise ValueError(\"x and y must have same first dimension, but \"\n\u001b[0;32m--> 231\u001b[0;31m                              \"have shapes {} and {}\".format(x.shape, y.shape))\n\u001b[0m\u001b[1;32m    232\u001b[0m         \u001b[0;32mif\u001b[0m \u001b[0mx\u001b[0m\u001b[0;34m.\u001b[0m\u001b[0mndim\u001b[0m \u001b[0;34m>\u001b[0m \u001b[0;36m2\u001b[0m \u001b[0;32mor\u001b[0m \u001b[0my\u001b[0m\u001b[0;34m.\u001b[0m\u001b[0mndim\u001b[0m \u001b[0;34m>\u001b[0m \u001b[0;36m2\u001b[0m\u001b[0;34m:\u001b[0m\u001b[0;34m\u001b[0m\u001b[0;34m\u001b[0m\u001b[0m\n\u001b[1;32m    233\u001b[0m             raise ValueError(\"x and y can be no greater than 2-D, but have \"\n",
      "\u001b[0;31mValueError\u001b[0m: x and y must have same first dimension, but have shapes (19,) and (38,)"
     ]
    },
    {
     "data": {
      "image/png": "[encoded data removed]",
      "text/plain": [
       "<Figure size 432x288 with 1 Axes>"
      ]
     },
     "metadata": {
      "needs_background": "light"
     },
     "output_type": "display_data"
    }
   ],
   "source": [
    "plt.plot(dims, pf_pi)\n",
    "plt.plot(dims, cca_pi)"
   ]
  },
  {
   "cell_type": "code",
   "execution_count": null,
   "metadata": {},
   "outputs": [],
   "source": [
    "cca_pi"
   ]
  },
  {
   "cell_type": "code",
   "execution_count": null,
   "metadata": {},
   "outputs": [],
   "source": [
    "pf_pi"
   ]
  },
  {
   "cell_type": "code",
   "execution_count": 23,
   "metadata": {},
   "outputs": [
    {
     "data": {
      "text/plain": [
       "(array([[-0.12239057,  0.05114426, -0.11324334,  0.18020798, -0.10785838,\n",
       "         -0.40059211,  0.31582836, -0.01996115, -0.03039934],\n",
       "        [-0.25932925,  0.19267247,  0.15968697, -0.2948788 ,  0.14473148,\n",
       "         -0.13743918, -0.07123181, -0.30112683,  0.00279596],\n",
       "        [-0.01293883,  0.10992407, -0.01589268, -0.06294528, -0.15534388,\n",
       "         -0.03652375, -0.42757111,  0.42867533,  0.04540675],\n",
       "        [ 0.15024737, -0.05466068, -0.25021046,  0.18534156,  0.40266293,\n",
       "         -0.33069962,  0.15193108,  0.06683947,  0.0500116 ],\n",
       "        [ 0.17600582, -0.09956234, -0.17725848, -0.35051441, -0.08467305,\n",
       "          0.05041802, -0.26434511, -0.47113815, -0.02447976],\n",
       "        [-0.08427865, -0.14507985,  0.00101255, -0.2940842 ,  0.06772303,\n",
       "          0.2527658 ,  0.19159024,  0.52727157, -0.01274182],\n",
       "        [ 0.14346481, -0.2033372 , -0.01378119,  0.46469435,  0.29107248,\n",
       "          0.22107172, -0.14147624, -0.14020062, -0.11061293],\n",
       "        [-0.02505092, -0.21726927, -0.19694361, -0.05854409, -0.52710266,\n",
       "          0.02422453,  0.28278985, -0.1011434 ,  0.23019638],\n",
       "        [-0.12951736,  0.22846901,  0.38271369, -0.09883577,  0.26286164,\n",
       "          0.2861914 ,  0.26235443, -0.08472239,  0.03603582],\n",
       "        [ 0.10930946,  0.18090021,  0.13048994,  0.33463398, -0.28102383,\n",
       "          0.11051469, -0.29417435,  0.08513224, -0.16826294],\n",
       "        [ 0.27655343, -0.21949466,  0.17700631, -0.17147429,  0.11375655,\n",
       "          0.11178806,  0.06233872,  0.25314162,  0.43860196],\n",
       "        [ 0.61316158, -0.11514761,  0.17649721,  0.10024263,  0.07248388,\n",
       "          0.13333065,  0.09555581, -0.09060292, -0.04261529],\n",
       "        [ 0.20911876, -0.28389528,  0.14113789, -0.06314344, -0.33126727,\n",
       "         -0.00567453,  0.32853656, -0.05974334, -0.33349095],\n",
       "        [-0.29135869, -0.25217837,  0.48498009,  0.03963294, -0.01369515,\n",
       "          0.0790666 ,  0.08182066, -0.10787817, -0.23732201],\n",
       "        [-0.20631131, -0.16869101,  0.37719119,  0.32484384, -0.19385403,\n",
       "         -0.12028115, -0.15776523,  0.03510843,  0.20930108],\n",
       "        [ 0.12817287,  0.12622091,  0.27881075,  0.12710986, -0.11257601,\n",
       "         -0.34937598,  0.07468447, -0.00975374,  0.41102773],\n",
       "        [ 0.32683008,  0.28876857,  0.31092965, -0.21428774,  0.03985012,\n",
       "         -0.30497186,  0.02823821, -0.04271198,  0.00562141],\n",
       "        [ 0.19633465, -0.02516857,  0.15367462, -0.22998064, -0.09193847,\n",
       "         -0.2817609 , -0.20947224,  0.19950041, -0.43140309],\n",
       "        [-0.14066867, -0.44012899,  0.02201731, -0.04504428,  0.25731627,\n",
       "         -0.38674291, -0.01522396,  0.1266051 , -0.21158841],\n",
       "        [-0.04240621, -0.46152438,  0.08079511, -0.1557749 ,  0.06432808,\n",
       "         -0.06981068, -0.35258453, -0.17296886,  0.30581139]]),\n",
       " array([[ 1.57631154e-01,  1.17169097e-01,  1.58807062e-01,\n",
       "         -4.27085111e-02,  5.17679727e-02,  7.06270421e-02,\n",
       "         -7.47648712e-02,  1.44041678e-01,  6.19169528e-04],\n",
       "        [-6.73609845e-02, -6.43520251e-02, -7.66959930e-02,\n",
       "         -1.56496281e-01, -1.35561910e-01, -4.87034361e-02,\n",
       "         -1.34887093e-01, -2.11581539e-01,  5.02346552e-03],\n",
       "        [-1.06930465e-01, -3.75645739e-02, -1.33778119e-01,\n",
       "          3.20634168e-04,  2.25671091e-01, -3.03691210e-02,\n",
       "          1.68621708e-01,  8.84074169e-02,  2.56872457e-02],\n",
       "        [ 5.70842753e-02,  9.17978026e-02,  2.12091630e-01,\n",
       "         -5.24044350e-02, -2.23781644e-01,  7.15762646e-02,\n",
       "         -9.32170689e-02,  2.13104788e-01,  1.85267310e-02],\n",
       "        [-2.00942994e-01, -1.18532641e-01, -6.65970501e-02,\n",
       "          3.79550689e-02,  1.34204877e-01,  7.25853635e-02,\n",
       "         -4.77457403e-02, -2.83105214e-01,  1.35846484e-02],\n",
       "        [ 1.12649540e-01,  7.82153127e-02, -6.80628630e-02,\n",
       "          1.48384539e-01,  5.72667712e-02, -1.53359421e-01,\n",
       "         -7.37751144e-02,  3.33309639e-01,  3.05132448e-02],\n",
       "        [-1.53148606e-01, -4.07116227e-02,  7.83107230e-02,\n",
       "         -3.93344471e-02, -3.15029268e-01,  4.97704499e-02,\n",
       "          1.64583009e-01, -2.30134187e-01, -5.94165373e-02],\n",
       "        [ 1.11923857e-01,  4.09707736e-02,  3.41982010e-02,\n",
       "          1.72676554e-01,  3.51215417e-01,  8.59078378e-02,\n",
       "         -3.12824781e-02,  6.13401064e-03,  6.53324308e-02],\n",
       "        [ 1.35182534e-01,  4.03061513e-03, -8.31888115e-02,\n",
       "         -5.97823756e-02, -3.18559943e-01, -1.30454277e-01,\n",
       "         -1.29258345e-01,  4.84668316e-03, -2.09548640e-02],\n",
       "        [-5.65784836e-02, -2.71070077e-02, -8.14858090e-02,\n",
       "         -8.36875576e-03,  1.67852258e-01,  3.15904834e-02,\n",
       "          2.47074346e-01, -7.68470224e-02, -6.49648407e-02],\n",
       "        [ 1.95142615e-01,  6.21834114e-01,  2.66209795e-01,\n",
       "         -2.97216936e-01,  2.45951418e-01,  1.33640221e-01,\n",
       "         -1.67886873e-01,  8.10535073e-02, -2.96462815e-01],\n",
       "        [-1.91048219e-01,  3.09028629e-01, -2.01588583e-01,\n",
       "         -5.11091443e-01, -1.28834229e-02, -2.40635953e-01,\n",
       "         -2.83990564e-01, -3.75416430e-01,  2.42078692e-01],\n",
       "        [-2.21197729e-01,  1.54900595e-01, -3.67260245e-01,\n",
       "         -2.28922238e-01,  1.96418399e-01,  2.05132616e-02,\n",
       "          2.54179234e-01,  3.90840007e-01,  4.88901455e-01],\n",
       "        [-2.67848333e-01,  4.22506055e-02,  5.72712098e-02,\n",
       "         -1.14397369e-01, -3.52814743e-01,  6.33005400e-01,\n",
       "         -6.13792828e-02,  2.91419352e-01,  1.67185579e-01],\n",
       "        [-4.09681435e-01,  2.78111179e-02, -1.89156477e-01,\n",
       "          2.71255874e-01,  1.39890993e-01,  3.57753851e-01,\n",
       "         -4.89485250e-01, -8.46312437e-02, -1.97563701e-01],\n",
       "        [-3.07868551e-01,  3.58530447e-01, -2.60243075e-01,\n",
       "          4.11066695e-01, -8.59782813e-02, -3.71236257e-01,\n",
       "         -1.17013785e-01,  2.05200688e-01, -2.15532888e-01],\n",
       "        [-1.74528620e-01,  4.74850841e-01,  2.26216600e-01,\n",
       "          3.03748793e-01, -3.29008280e-01, -7.65793864e-02,\n",
       "          3.76612325e-01, -1.84005471e-01,  1.58013687e-01],\n",
       "        [ 2.87190190e-01,  2.37848888e-01, -3.93728924e-02,\n",
       "          3.62240470e-01,  1.79767132e-01,  2.97763717e-01,\n",
       "          8.53585440e-04, -3.80794304e-01,  4.39411877e-01],\n",
       "        [ 5.23410003e-01,  7.29712288e-02, -5.75804554e-01,\n",
       "          8.04008875e-02, -3.35006637e-01,  1.06659535e-01,\n",
       "         -1.52595227e-01,  2.09725784e-02,  1.53909861e-02],\n",
       "        [ 2.50531351e-02,  1.52918816e-01, -3.72345396e-01,\n",
       "         -1.57878957e-01,  3.04308486e-02,  2.85206953e-01,\n",
       "          4.79509015e-01, -1.31617903e-01, -5.17837549e-01]]))"
      ]
     },
     "execution_count": 23,
     "metadata": {},
     "output_type": "execute_result"
    }
   ],
   "source": [
    "pfmodel0.coef_"
   ]
  },
  {
   "cell_type": "code",
   "execution_count": 24,
   "metadata": {
    "scrolled": false
   },
   "outputs": [
    {
     "data": {
      "text/plain": [
       "(array([[ 5.75009869e-03, -9.01887378e-02,  4.30147540e-15,\n",
       "          1.63152819e-01, -7.06905433e-02,  1.97464772e-02,\n",
       "          7.04795821e-03,  3.35510041e-01,  6.17283028e-05],\n",
       "        [ 5.75009869e-03, -7.29642216e-02, -5.30116100e-02,\n",
       "          1.68137079e-02,  1.77012131e-01,  1.28050036e-02,\n",
       "         -1.66020769e-02, -2.71397042e-01, -1.97257793e-01],\n",
       "        [ 5.75009869e-03, -2.78698527e-02, -8.57745868e-02,\n",
       "         -1.73544262e-01, -3.87089703e-02, -1.18325497e-02,\n",
       "         -1.73086060e-02,  1.03619597e-01,  3.19108086e-01],\n",
       "        [ 5.75009869e-03,  2.78698527e-02, -8.57745868e-02,\n",
       "          9.04425448e-02, -1.53088672e-01, -2.01179215e-02,\n",
       "          5.90477010e-03,  1.03737012e-01, -3.19069936e-01],\n",
       "        [ 5.75009869e-03,  7.29642216e-02, -5.30116100e-02,\n",
       "          1.17647696e-01,  1.33322973e-01, -6.01009555e-04,\n",
       "          2.09579547e-02, -2.71469608e-01,  1.97157915e-01],\n",
       "        [ 5.75009869e-03,  9.01887378e-02, -5.30318278e-15,\n",
       "         -1.63152819e-01,  7.06905433e-02,  1.97464772e-02,\n",
       "          7.04795821e-03,  3.35510041e-01,  6.17283028e-05],\n",
       "        [ 5.75009869e-03,  7.29642216e-02,  5.30116100e-02,\n",
       "         -1.68137079e-02, -1.77012131e-01,  1.28050036e-02,\n",
       "         -1.66020769e-02, -2.71397042e-01, -1.97257793e-01],\n",
       "        [ 5.75009869e-03,  2.78698527e-02,  8.57745868e-02,\n",
       "          1.73544262e-01,  3.87089703e-02, -1.18325497e-02,\n",
       "         -1.73086060e-02,  1.03619597e-01,  3.19108086e-01],\n",
       "        [ 5.75009869e-03, -2.78698527e-02,  8.57745868e-02,\n",
       "         -9.04425448e-02,  1.53088672e-01, -2.01179215e-02,\n",
       "          5.90477010e-03,  1.03737012e-01, -3.19069936e-01],\n",
       "        [ 5.75009869e-03, -7.29642216e-02,  5.30116100e-02,\n",
       "         -1.17647696e-01, -1.33322973e-01, -6.01009555e-04,\n",
       "          2.09579547e-02, -2.71469608e-01,  1.97157915e-01],\n",
       "        [ 3.16175483e-01, -4.38025104e-01, -1.92293448e-14,\n",
       "          3.76523052e-01, -1.63139192e-01,  4.20726063e-01,\n",
       "          1.50166517e-01,  2.95690726e-01,  5.44022069e-05],\n",
       "        [ 3.16175483e-01, -3.54369753e-01, -2.57464696e-01,\n",
       "          3.88025696e-02,  4.08507485e-01,  2.72828348e-01,\n",
       "         -3.53730258e-01, -2.39186846e-01, -1.73846660e-01],\n",
       "        [ 3.16175483e-01, -1.35357201e-01, -4.16586629e-01,\n",
       "         -4.00504359e-01, -8.93323185e-02, -2.52108871e-01,\n",
       "         -3.68783840e-01,  9.13217199e-02,  2.81235403e-01],\n",
       "        [ 3.16175483e-01,  1.35357201e-01, -4.16586629e-01,\n",
       "          2.08722737e-01, -3.53297076e-01, -4.28640199e-01,\n",
       "          1.25809310e-01,  9.14251991e-02, -2.81201781e-01],\n",
       "        [ 3.16175483e-01,  3.54369753e-01, -2.57464696e-01,\n",
       "          2.71506613e-01,  3.07681919e-01, -1.28053415e-02,\n",
       "          4.46538270e-01, -2.39250799e-01,  1.73758636e-01],\n",
       "        [ 3.16175483e-01,  4.38025104e-01, -6.01988288e-14,\n",
       "         -3.76523052e-01,  1.63139192e-01,  4.20726063e-01,\n",
       "          1.50166517e-01,  2.95690726e-01,  5.44022069e-05],\n",
       "        [ 3.16175483e-01,  3.54369753e-01,  2.57464696e-01,\n",
       "         -3.88025696e-02, -4.08507485e-01,  2.72828348e-01,\n",
       "         -3.53730258e-01, -2.39186846e-01, -1.73846660e-01],\n",
       "        [ 3.16175483e-01,  1.35357201e-01,  4.16586629e-01,\n",
       "          4.00504359e-01,  8.93323185e-02, -2.52108871e-01,\n",
       "         -3.68783840e-01,  9.13217199e-02,  2.81235403e-01],\n",
       "        [ 3.16175483e-01, -1.35357201e-01,  4.16586629e-01,\n",
       "         -2.08722737e-01,  3.53297076e-01, -4.28640199e-01,\n",
       "          1.25809310e-01,  9.14251991e-02, -2.81201781e-01],\n",
       "        [ 3.16175483e-01, -3.54369753e-01,  2.57464696e-01,\n",
       "         -2.71506613e-01, -3.07681919e-01, -1.28053415e-02,\n",
       "          4.46538270e-01, -2.39250799e-01,  1.73758636e-01]]),\n",
       " array([[-1.21288579e-02,  2.92946700e-01, -8.44336533e-15,\n",
       "          3.75093759e-01, -1.62519910e-01,  9.06396957e-02,\n",
       "          3.23513294e-02,  4.08198376e-01,  7.51017552e-05],\n",
       "        [-1.21288579e-02,  2.36998859e-01,  1.72189750e-01,\n",
       "          3.86552739e-02,  4.06956778e-01,  5.87771490e-02,\n",
       "         -7.62063627e-02, -3.30195280e-01, -2.39993744e-01],\n",
       "        [-1.21288579e-02,  9.05255089e-02,  2.78608868e-01,\n",
       "         -3.98984032e-01, -8.89932102e-02, -5.43134199e-02,\n",
       "         -7.94494517e-02,  1.26068809e-01,  3.88242933e-01],\n",
       "        [-1.21288579e-02, -9.05255089e-02,  2.78608868e-01,\n",
       "          2.07930419e-01, -3.51955949e-01, -9.23446885e-02,\n",
       "          2.71039012e-02,  1.26211661e-01, -3.88196518e-01],\n",
       "        [-1.21288579e-02, -2.36998859e-01,  1.72189750e-01,\n",
       "          2.70475966e-01,  3.06513949e-01, -2.75873629e-03,\n",
       "          9.62005838e-02, -3.30283567e-01,  2.39872227e-01],\n",
       "        [-1.21288579e-02, -2.92946700e-01,  1.83122794e-14,\n",
       "         -3.75093759e-01,  1.62519910e-01,  9.06396957e-02,\n",
       "          3.23513294e-02,  4.08198376e-01,  7.51017552e-05],\n",
       "        [-1.21288579e-02, -2.36998859e-01, -1.72189750e-01,\n",
       "         -3.86552739e-02, -4.06956778e-01,  5.87771490e-02,\n",
       "         -7.62063627e-02, -3.30195280e-01, -2.39993744e-01],\n",
       "        [-1.21288579e-02, -9.05255089e-02, -2.78608868e-01,\n",
       "          3.98984032e-01,  8.89932103e-02, -5.43134199e-02,\n",
       "         -7.94494517e-02,  1.26068809e-01,  3.88242933e-01],\n",
       "        [-1.21288579e-02,  9.05255089e-02, -2.78608868e-01,\n",
       "         -2.07930419e-01,  3.51955949e-01, -9.23446885e-02,\n",
       "          2.71039012e-02,  1.26211661e-01, -3.88196518e-01],\n",
       "        [-1.21288579e-02,  2.36998859e-01, -1.72189750e-01,\n",
       "         -2.70475966e-01, -3.06513949e-01, -2.75873629e-03,\n",
       "          9.62005838e-02, -3.30283567e-01,  2.39872227e-01],\n",
       "        [ 3.15995080e-01, -3.37908613e-01, -4.71774707e-14,\n",
       "         -1.66412509e-01,  7.21028954e-02, -4.11320786e-01,\n",
       "         -1.46809564e-01,  1.82685738e-01,  3.36111567e-05],\n",
       "        [ 3.15995080e-01, -2.73373810e-01, -1.98617699e-01,\n",
       "         -1.71496352e-02, -1.80548721e-01, -2.66729306e-01,\n",
       "          3.45822663e-01, -1.47776111e-01, -1.07407175e-01],\n",
       "        [ 3.15995080e-01, -1.04419504e-01, -3.21370188e-01,\n",
       "          1.77011567e-01,  3.94823509e-02,  2.46473009e-01,\n",
       "          3.60539724e-01,  5.64210316e-02,  1.73754848e-01],\n",
       "        [ 3.15995080e-01,  1.04419504e-01, -3.21370188e-01,\n",
       "         -9.22495294e-02,  1.56147286e-01,  4.19058003e-01,\n",
       "         -1.22996859e-01,  5.64849638e-02, -1.73734075e-01],\n",
       "        [ 3.15995080e-01,  2.73373810e-01, -1.98617699e-01,\n",
       "         -1.19998222e-01, -1.35986681e-01,  1.25190797e-02,\n",
       "         -4.36555964e-01, -1.47815623e-01,  1.07352791e-01],\n",
       "        [ 3.15995080e-01,  3.37908613e-01, -8.45956427e-14,\n",
       "          1.66412509e-01, -7.21028954e-02, -4.11320786e-01,\n",
       "         -1.46809564e-01,  1.82685738e-01,  3.36111567e-05],\n",
       "        [ 3.15995080e-01,  2.73373810e-01,  1.98617699e-01,\n",
       "          1.71496352e-02,  1.80548721e-01, -2.66729306e-01,\n",
       "          3.45822663e-01, -1.47776111e-01, -1.07407175e-01],\n",
       "        [ 3.15995080e-01,  1.04419504e-01,  3.21370188e-01,\n",
       "         -1.77011567e-01, -3.94823509e-02,  2.46473009e-01,\n",
       "          3.60539724e-01,  5.64210316e-02,  1.73754848e-01],\n",
       "        [ 3.15995080e-01, -1.04419504e-01,  3.21370188e-01,\n",
       "          9.22495294e-02, -1.56147286e-01,  4.19058003e-01,\n",
       "         -1.22996859e-01,  5.64849638e-02, -1.73734075e-01],\n",
       "        [ 3.15995080e-01, -2.73373810e-01,  1.98617699e-01,\n",
       "          1.19998222e-01,  1.35986681e-01,  1.25190797e-02,\n",
       "         -4.36555964e-01, -1.47815623e-01,  1.07352791e-01]]))"
      ]
     },
     "execution_count": 24,
     "metadata": {},
     "output_type": "execute_result"
    }
   ],
   "source": [
    "pfmodel1.coef_"
   ]
  },
  {
   "cell_type": "code",
   "execution_count": 62,
   "metadata": {},
   "outputs": [
    {
     "name": "stdout",
     "output_type": "stream",
     "text": [
      "Variable                         Type                                     Data/Info\n",
      "-----------------------------------------------------------------------------------\n",
      "A                                ndarray                                  20x20: 400 elems, type `float64`, 3200 bytes\n",
      "AAA                              ndarray                                  1000: 1000 elems, type `bool`, 1000 bytes\n",
      "CCA                              ABCMeta                                  <class 'sklearn.cross_decomposition._cca.CCA'>\n",
      "CanCorr                          type                                     <class 'statsmodels.multi<...>variate.cancorr.CanCorr'>\n",
      "DynamicalComponentsAnalysis      type                                     <class 'dca.dca.DynamicalComponentsAnalysis'>\n",
      "U                                ndarray                                  20x20: 400 elems, type `float64`, 3200 bytes\n",
      "Ud                               ndarray                                  20x19: 380 elems, type `float64`, 3040 bytes\n",
      "V                                ndarray                                  20x20: 400 elems, type `float64`, 3200 bytes\n",
      "Vd                               ndarray                                  20x19: 380 elems, type `float64`, 3040 bytes\n",
      "Xo                               ndarray                                  2000x20: 40000 elems, type `float64`, 320000 bytes (312.5 kb)\n",
      "XoL                              ndarray                                  1999x40: 79960 elems, type `float64`, 639680 bytes (624.6875 kb)\n",
      "ax                               AxesSubplot                              AxesSubplot(0.125,0.125;0.775x0.755)\n",
      "calc_cross_cov_mats_from_data    function                                 <function calc_cross_cov_<...>m_data at 0x7fda5550e488>\n",
      "calc_neg_sqrt                    function                                 <function calc_neg_sqrt at 0x7fda5551d378>\n",
      "calc_pi                          function                                 <function calc_pi at 0x7fda5551d7b8>\n",
      "cca_pi                           list                                     n=19\n",
      "cca_proj                         function                                 <function cca_proj at 0x7fda5551d488>\n",
      "cca_proj2                        function                                 <function cca_proj2 at 0x7fda5551d400>\n",
      "d                                int64                                    19\n",
      "dca_proj                         function                                 <function dca_proj at 0x7fda5551d6a8>\n",
      "dims                             ndarray                                  19: 19 elems, type `int64`, 152 bytes\n",
      "embedded_lorenz_cross_cov_mats   function                                 <function embedded_lorenz<...>v_mats at 0x7fda55513b70>\n",
      "fig                              Figure                                   Figure(720x720)\n",
      "form_lag_matrix                  function                                 <function form_lag_matrix at 0x7fda55c9db70>\n",
      "label                            str                                      PCA\n",
      "labels                           list                                     n=6\n",
      "mi_vs_dim                        function                                 <function mi_vs_dim at 0x7fda5551d840>\n",
      "np                               module                                   <module 'numpy' from '/ho<...>kages/numpy/__init__.py'>\n",
      "os                               module                                   <module 'os' from '/home/<...>dca/lib/python3.6/os.py'>\n",
      "osc_cross_cov_mats               ndarray                                  20x20x20: 8000 elems, type `float64`, 64000 bytes\n",
      "oscillators_cross_cov_mats       function                                 <function oscillators_cro<...>v_mats at 0x7fda555138c8>\n",
      "oscillators_dynamics_mat         function                                 <function oscillators_dyn<...>cs_mat at 0x7fda55513840>\n",
      "patches                          module                                   <module 'matplotlib.patch<...>s/matplotlib/patches.py'>\n",
      "pca_proj                         function                                 <function pca_proj at 0x7fda5551d620>\n",
      "pf_dca                           module                                   <module 'dca_research.pf_<...>/dca_research/pf_dca.py'>\n",
      "pf_dca_proj                      function                                 <function pf_dca_proj at 0x7fda5551d510>\n",
      "pf_pi                            list                                     n=38\n",
      "pfmodel0                         PastFutureDynamicalComponentsAnalysis    <dca_research.pf_dca.Past<...>object at 0x7fda524f89e8>\n",
      "pfmodel1                         PastFutureDynamicalComponentsAnalysis    <dca_research.pf_dca.Past<...>object at 0x7fda524f8860>\n",
      "pi                               ndarray                                  20: 20 elems, type `float64`, 160 bytes\n",
      "pi_osc                           ndarray                                  6x20: 120 elems, type `float64`, 960 bytes\n",
      "plt                              module                                   <module 'matplotlib.pyplo<...>es/matplotlib/pyplot.py'>\n",
      "quad_mat                         function                                 <function quad_mat at 0x7fda5551d730>\n",
      "sample_oscillators               function                                 <function sample_oscillators at 0x7fda55513950>\n",
      "scipy                            module                                   <module 'scipy' from '/ho<...>kages/scipy/__init__.py'>\n",
      "sfa_proj                         function                                 <function sfa_proj at 0x7fda5551d598>\n",
      "style                            module                                   <module 'dca.style' from <...>tsAnalysis/dca/style.py'>\n"
     ]
    }
   ],
   "source": [
    "whos"
   ]
  },
  {
   "cell_type": "code",
   "execution_count": 61,
   "metadata": {},
   "outputs": [],
   "source": [
    "AAA = np.ones(1000, dtype=bool)"
   ]
  },
  {
   "cell_type": "code",
   "execution_count": null,
   "metadata": {},
   "outputs": [],
   "source": []
  }
 ],
 "metadata": {
  "kernelspec": {
   "display_name": "Python 3",
   "language": "python",
   "name": "python3"
  },
  "language_info": {
   "codemirror_mode": {
    "name": "ipython",
    "version": 3
   },
   "file_extension": ".py",
   "mimetype": "text/x-python",
   "name": "python",
   "nbconvert_exporter": "python",
   "pygments_lexer": "ipython3",
   "version": "3.6.8"
  }
 },
 "nbformat": 4,
 "nbformat_minor": 2
}
