{
 "cells": [
  {
   "cell_type": "code",
   "execution_count": 1,
   "metadata": {},
   "outputs": [],
   "source": [
    "import numpy as np\n",
    "import matplotlib.pyplot as plt\n",
    "\n",
    "from dca import DynamicalComponentsAnalysis as DCA\n",
    "from dca_research.dca_l1 import L1DynamicalComponentsAnalysis as sDCA\n",
    "\n",
    "from dca.synth_data import gen_lorenz_data\n",
    "from scipy.stats import special_ortho_group as sog"
   ]
  },
  {
   "cell_type": "code",
   "execution_count": 2,
   "metadata": {},
   "outputs": [],
   "source": [
    "rng = np.random.RandomState(0)\n",
    "XL = gen_lorenz_data(20000)"
   ]
  },
  {
   "cell_type": "code",
   "execution_count": 3,
   "metadata": {},
   "outputs": [],
   "source": [
    "X = rng.randn(20000, 30)\n",
    "X[:, :3] = XL"
   ]
  },
  {
   "cell_type": "code",
   "execution_count": 4,
   "metadata": {},
   "outputs": [],
   "source": [
    "init = sog.rvs(30, random_state=rng)[:, :3]"
   ]
  },
  {
   "cell_type": "code",
   "execution_count": 5,
   "metadata": {},
   "outputs": [
    {
     "name": "stdout",
     "output_type": "stream",
     "text": [
      "Warning: non-PSD matrix (had to increase eigenvalues)\n",
      "PI: 0.136 nats, reg: 0.0\n",
      "PI: 0.9119 nats, reg: 2.6205\n",
      "PI: 1.0273 nats, reg: 4.9946\n",
      "PI: 3.7657 nats, reg: 12.3727\n",
      "PI: 3.7824 nats, reg: 12.571\n",
      "PI: 5.9568 nats, reg: 0.1814\n",
      "PI: 7.5162 nats, reg: 0.3468\n",
      "PI: 7.5569 nats, reg: 0.4069\n",
      "PI: 8.3978 nats, reg: 0.1875\n",
      "PI: 8.7901 nats, reg: 0.073\n",
      "PI: 8.9777 nats, reg: 0.2381\n",
      "PI: 9.534 nats, reg: 0.1462\n",
      "PI: 9.8093 nats, reg: 0.0606\n",
      "PI: 9.9237 nats, reg: 0.0718\n",
      "PI: 9.9613 nats, reg: 0.0803\n",
      "PI: 9.9637 nats, reg: 0.0713\n",
      "PI: 9.9639 nats, reg: 0.0742\n",
      "PI: 9.9648 nats, reg: 0.0752\n",
      "PI: 9.9651 nats, reg: 0.0741\n",
      "PI: 9.9654 nats, reg: 0.0737\n",
      "PI: 9.9677 nats, reg: 0.0724\n",
      "PI: 9.9724 nats, reg: 0.0721\n",
      "PI: 9.9858 nats, reg: 0.0751\n",
      "PI: 10.017 nats, reg: 0.0893\n",
      "PI: 10.0801 nats, reg: 0.1393\n",
      "PI: 10.1661 nats, reg: 0.245\n",
      "PI: 10.2361 nats, reg: 0.4404\n",
      "PI: 10.2894 nats, reg: 0.3728\n",
      "PI: 10.3066 nats, reg: 0.3831\n",
      "PI: 10.3077 nats, reg: 0.3846\n",
      "PI: 10.3081 nats, reg: 0.3771\n",
      "PI: 10.3091 nats, reg: 0.361\n",
      "PI: 10.3106 nats, reg: 0.3324\n",
      "PI: 10.314 nats, reg: 0.2829\n",
      "PI: 10.3223 nats, reg: 0.2131\n",
      "PI: 10.3574 nats, reg: 0.0283\n",
      "PI: 10.3827 nats, reg: 0.049\n",
      "PI: 10.4222 nats, reg: 0.2547\n",
      "PI: 10.4404 nats, reg: 0.5852\n",
      "PI: 10.4492 nats, reg: 0.7249\n",
      "PI: 10.4567 nats, reg: 1.0546\n",
      "PI: 10.4619 nats, reg: 0.9899\n",
      "PI: 10.4658 nats, reg: 1.0112\n",
      "PI: 10.4671 nats, reg: 0.9188\n",
      "PI: 10.4681 nats, reg: 0.9675\n",
      "PI: 10.4686 nats, reg: 0.9416\n",
      "PI: 10.4714 nats, reg: 0.7458\n",
      "PI: 10.4751 nats, reg: 0.6061\n",
      "PI: 10.486 nats, reg: 0.3304\n",
      "PI: 10.5075 nats, reg: 0.1144\n",
      "PI: 10.5398 nats, reg: 0.073\n",
      "PI: 10.5822 nats, reg: 0.0241\n",
      "PI: 10.6887 nats, reg: 0.324\n",
      "PI: 10.8736 nats, reg: 1.5788\n",
      "PI: 11.5354 nats, reg: 5.5721\n",
      "PI: 11.5667 nats, reg: 6.1031\n",
      "PI: 11.8911 nats, reg: 6.8561\n",
      "PI: 11.9981 nats, reg: 0.3011\n",
      "PI: 12.8533 nats, reg: 0.037\n",
      "PI: 13.5714 nats, reg: 0.0882\n",
      "PI: 13.7743 nats, reg: 0.0685\n",
      "PI: 13.8771 nats, reg: 0.0669\n",
      "PI: 14.051 nats, reg: 0.2705\n",
      "PI: 14.2547 nats, reg: 0.2716\n",
      "PI: 14.3012 nats, reg: 0.2168\n",
      "PI: 14.4055 nats, reg: 0.3211\n",
      "PI: 14.4993 nats, reg: 0.3459\n",
      "PI: 14.6161 nats, reg: 0.4338\n",
      "PI: 14.9584 nats, reg: 0.3569\n",
      "PI: 15.4361 nats, reg: 0.2731\n",
      "PI: 15.6499 nats, reg: 0.151\n",
      "PI: 15.7515 nats, reg: 0.3451\n",
      "PI: 15.9174 nats, reg: 0.2443\n",
      "PI: 15.9603 nats, reg: 0.2278\n",
      "PI: 15.9625 nats, reg: 0.22\n",
      "PI: 15.9715 nats, reg: 0.2251\n",
      "PI: 15.9741 nats, reg: 0.2199\n",
      "PI: 15.9776 nats, reg: 0.2038\n",
      "PI: 15.9788 nats, reg: 0.1895\n",
      "PI: 15.9805 nats, reg: 0.1773\n",
      "PI: 15.9846 nats, reg: 0.1385\n",
      "PI: 15.9925 nats, reg: 0.0727\n",
      "PI: 16.0007 nats, reg: 0.0374\n",
      "PI: 16.007 nats, reg: 0.0662\n",
      "PI: 16.0091 nats, reg: 0.0587\n",
      "PI: 16.0095 nats, reg: 0.0564\n",
      "PI: 16.0096 nats, reg: 0.057\n",
      "PI: 16.0098 nats, reg: 0.0624\n",
      "PI: 16.01 nats, reg: 0.0638\n",
      "PI: 16.0101 nats, reg: 0.0644\n",
      "PI: 16.0102 nats, reg: 0.0649\n",
      "PI: 16.0104 nats, reg: 0.0657\n",
      "PI: 16.011 nats, reg: 0.0656\n",
      "PI: 16.0121 nats, reg: 0.0645\n",
      "PI: 16.0143 nats, reg: 0.0604\n",
      "PI: 16.0201 nats, reg: 0.051\n",
      "PI: 16.0281 nats, reg: 0.034\n",
      "PI: 16.0551 nats, reg: 0.0394\n",
      "PI: 16.0952 nats, reg: 0.0848\n",
      "PI: 16.1544 nats, reg: 0.2896\n",
      "PI: 16.2175 nats, reg: 0.6691\n",
      "PI: 16.2456 nats, reg: 1.0076\n",
      "PI: 16.2845 nats, reg: 1.101\n",
      "PI: 16.2991 nats, reg: 1.4115\n",
      "PI: 16.3075 nats, reg: 1.4664\n",
      "PI: 16.3197 nats, reg: 1.6565\n",
      "PI: 16.3315 nats, reg: 1.6832\n",
      "PI: 16.3498 nats, reg: 1.5995\n",
      "PI: 16.3861 nats, reg: 1.4164\n",
      "PI: 16.4435 nats, reg: 0.8205\n",
      "PI: 16.5216 nats, reg: 0.3862\n",
      "PI: 16.6333 nats, reg: 0.2478\n",
      "PI: 16.6812 nats, reg: 0.1743\n",
      "PI: 16.7231 nats, reg: 0.2892\n",
      "PI: 16.7567 nats, reg: 0.4107\n",
      "PI: 16.7784 nats, reg: 0.4314\n",
      "PI: 16.7977 nats, reg: 0.4209\n",
      "PI: 16.8126 nats, reg: 0.3437\n",
      "PI: 16.8272 nats, reg: 0.2385\n",
      "PI: 16.8334 nats, reg: 0.1687\n",
      "PI: 16.8391 nats, reg: 0.1229\n",
      "PI: 16.8402 nats, reg: 0.1125\n",
      "PI: 16.8426 nats, reg: 0.086\n",
      "PI: 16.8435 nats, reg: 0.0758\n",
      "PI: 16.845 nats, reg: 0.0662\n",
      "PI: 16.8458 nats, reg: 0.0593\n",
      "PI: 16.846 nats, reg: 0.058\n",
      "PI: 16.8461 nats, reg: 0.0585\n",
      "PI: 16.8462 nats, reg: 0.0595\n",
      "PI: 16.8463 nats, reg: 0.0599\n",
      "PI: 16.8463 nats, reg: 0.0599\n"
     ]
    }
   ],
   "source": [
    "dca_model = DCA(T=10, d=3, verbose=True, init=init)\n",
    "dca_model.fit(X)\n",
    "init = dca_model.coef_"
   ]
  },
  {
   "cell_type": "code",
   "execution_count": 6,
   "metadata": {},
   "outputs": [
    {
     "data": {
      "text/plain": [
       "[<matplotlib.lines.Line2D at 0x7f9ab7eed518>]"
      ]
     },
     "execution_count": 6,
     "metadata": {},
     "output_type": "execute_result"
    },
    {
     "data": {
      "image/png": "[encoded data removed]",
      "text/plain": [
       "<Figure size 432x288 with 1 Axes>"
      ]
     },
     "metadata": {
      "needs_background": "light"
     },
     "output_type": "display_data"
    }
   ],
   "source": [
    "plt.plot(np.sort(np.sum(dca_model.coef_**2, axis=1) / 3.)[::-1][:5])"
   ]
  },
  {
   "cell_type": "code",
   "execution_count": 7,
   "metadata": {},
   "outputs": [
    {
     "data": {
      "text/plain": [
       "<matplotlib.image.AxesImage at 0x7f9ab7e880b8>"
      ]
     },
     "execution_count": 7,
     "metadata": {},
     "output_type": "execute_result"
    },
    {
     "data": {
      "image/png": "[encoded data removed]",
      "text/plain": [
       "<Figure size 432x288 with 1 Axes>"
      ]
     },
     "metadata": {
      "needs_background": "light"
     },
     "output_type": "display_data"
    }
   ],
   "source": [
    "plt.imshow(dca_model.cross_covs[0])"
   ]
  },
  {
   "cell_type": "code",
   "execution_count": 8,
   "metadata": {},
   "outputs": [
    {
     "name": "stdout",
     "output_type": "stream",
     "text": [
      "Warning: non-PSD matrix (had to increase eigenvalues)\n",
      "PI: 16.8523 nats, reg: 0.0\n",
      "PI: 16.8523 nats, reg: 0.0\n",
      "PI: 16.8523 nats, reg: 0.0\n",
      "PI: 16.8523 nats, reg: 0.0\n",
      "PI: 16.8523 nats, reg: 0.0\n",
      "PI: 16.8523 nats, reg: 0.0\n",
      "PI: 16.8523 nats, reg: 0.0\n",
      "PI: 16.8523 nats, reg: 0.0\n",
      "PI: 16.8523 nats, reg: 0.0\n",
      "PI: 16.8524 nats, reg: 0.0\n",
      "PI: 16.8524 nats, reg: 0.0\n",
      "PI: 16.8525 nats, reg: 0.0\n",
      "PI: 16.8527 nats, reg: 0.0\n",
      "PI: 16.8533 nats, reg: 0.0\n",
      "PI: 16.8543 nats, reg: 0.0\n",
      "PI: 16.8564 nats, reg: 0.0\n",
      "PI: 16.8582 nats, reg: 0.0\n",
      "PI: 16.8668 nats, reg: 0.0\n",
      "PI: 16.8795 nats, reg: 0.0002\n",
      "PI: 16.9052 nats, reg: 0.0021\n",
      "PI: 16.9339 nats, reg: 0.021\n",
      "PI: 16.9665 nats, reg: 0.045\n",
      "PI: 17.0072 nats, reg: 0.1164\n",
      "PI: 17.033 nats, reg: 0.0916\n",
      "PI: 17.0431 nats, reg: 0.1238\n",
      "PI: 17.0706 nats, reg: 0.21\n",
      "PI: 17.1086 nats, reg: 0.3859\n",
      "PI: 17.1287 nats, reg: 0.6316\n",
      "PI: 17.1311 nats, reg: 0.6311\n",
      "PI: 17.1321 nats, reg: 0.6301\n",
      "PI: 17.1333 nats, reg: 0.6651\n",
      "PI: 17.1345 nats, reg: 0.658\n",
      "PI: 17.1357 nats, reg: 0.7034\n",
      "PI: 17.1363 nats, reg: 0.7136\n",
      "PI: 17.1363 nats, reg: 0.71\n",
      "PI: 17.1363 nats, reg: 0.7103\n",
      "PI: 17.1363 nats, reg: 0.7104\n",
      "PI: 17.1364 nats, reg: 0.7109\n",
      "PI: 17.1364 nats, reg: 0.7108\n",
      "PI: 17.1365 nats, reg: 0.7109\n",
      "PI: 17.1365 nats, reg: 0.7097\n",
      "PI: 17.1367 nats, reg: 0.7061\n",
      "PI: 17.1368 nats, reg: 0.7034\n",
      "PI: 17.1371 nats, reg: 0.6972\n",
      "PI: 17.138 nats, reg: 0.6774\n",
      "PI: 17.1402 nats, reg: 0.6318\n",
      "PI: 17.1457 nats, reg: 0.5224\n",
      "PI: 17.1563 nats, reg: 0.3283\n",
      "PI: 17.1731 nats, reg: 0.1285\n",
      "PI: 17.1906 nats, reg: 0.016\n",
      "PI: 17.1943 nats, reg: 0.0089\n",
      "PI: 17.1967 nats, reg: 0.0166\n",
      "PI: 17.1975 nats, reg: 0.0201\n",
      "PI: 17.1987 nats, reg: 0.0218\n",
      "PI: 17.1998 nats, reg: 0.0168\n",
      "PI: 17.2 nats, reg: 0.0137\n",
      "PI: 17.2003 nats, reg: 0.0095\n",
      "PI: 17.2004 nats, reg: 0.0078\n",
      "PI: 17.2006 nats, reg: 0.0059\n",
      "PI: 17.201 nats, reg: 0.0042\n",
      "PI: 17.2018 nats, reg: 0.0023\n",
      "PI: 17.2029 nats, reg: 0.0023\n",
      "PI: 17.2046 nats, reg: 0.004\n",
      "PI: 17.2083 nats, reg: 0.0175\n",
      "PI: 17.2121 nats, reg: 0.0409\n",
      "PI: 17.2207 nats, reg: 0.1052\n",
      "PI: 17.2305 nats, reg: 0.1273\n",
      "PI: 17.2429 nats, reg: 0.0735\n",
      "PI: 17.25 nats, reg: 0.0144\n",
      "PI: 17.2537 nats, reg: 0.0104\n",
      "PI: 17.2603 nats, reg: 0.0098\n",
      "PI: 17.2606 nats, reg: 0.012\n",
      "PI: 17.2614 nats, reg: 0.0173\n",
      "PI: 17.2615 nats, reg: 0.0222\n",
      "PI: 17.2615 nats, reg: 0.0229\n",
      "PI: 17.2616 nats, reg: 0.0233\n",
      "PI: 17.2616 nats, reg: 0.0249\n",
      "PI: 17.2616 nats, reg: 0.0246\n",
      "PI: 17.2616 nats, reg: 0.0248\n",
      "PI: 17.2617 nats, reg: 0.0255\n",
      "PI: 17.2617 nats, reg: 0.0261\n",
      "PI: 17.2617 nats, reg: 0.0276\n",
      "PI: 17.2617 nats, reg: 0.0279\n",
      "PI: 17.2617 nats, reg: 0.0287\n",
      "PI: 17.2618 nats, reg: 0.0301\n",
      "PI: 17.2619 nats, reg: 0.0331\n",
      "PI: 17.2619 nats, reg: 0.039\n",
      "PI: 17.262 nats, reg: 0.0391\n",
      "PI: 17.2621 nats, reg: 0.04\n",
      "PI: 17.2622 nats, reg: 0.0415\n",
      "PI: 17.2624 nats, reg: 0.046\n",
      "PI: 17.2626 nats, reg: 0.0484\n",
      "PI: 17.2628 nats, reg: 0.0534\n",
      "PI: 17.2632 nats, reg: 0.059\n",
      "PI: 17.2636 nats, reg: 0.0643\n",
      "PI: 17.2645 nats, reg: 0.0714\n",
      "PI: 17.2661 nats, reg: 0.0786\n",
      "PI: 17.2687 nats, reg: 0.0884\n",
      "PI: 17.2705 nats, reg: 0.0994\n",
      "PI: 17.273 nats, reg: 0.0976\n",
      "PI: 17.2751 nats, reg: 0.0879\n",
      "PI: 17.2765 nats, reg: 0.0804\n",
      "PI: 17.2794 nats, reg: 0.0622\n",
      "PI: 17.2812 nats, reg: 0.053\n",
      "PI: 17.2841 nats, reg: 0.0415\n",
      "PI: 17.2861 nats, reg: 0.0364\n",
      "PI: 17.2873 nats, reg: 0.0342\n",
      "PI: 17.2886 nats, reg: 0.0291\n",
      "PI: 17.2893 nats, reg: 0.0249\n",
      "PI: 17.2899 nats, reg: 0.0217\n",
      "PI: 17.2904 nats, reg: 0.0175\n",
      "PI: 17.2908 nats, reg: 0.0142\n",
      "PI: 17.2909 nats, reg: 0.0094\n",
      "PI: 17.2911 nats, reg: 0.0094\n",
      "PI: 17.2913 nats, reg: 0.0085\n",
      "PI: 17.2916 nats, reg: 0.0058\n",
      "PI: 17.2919 nats, reg: 0.0027\n",
      "PI: 17.292 nats, reg: 0.0011\n",
      "PI: 17.2922 nats, reg: 0.0011\n",
      "PI: 17.2923 nats, reg: 0.0011\n",
      "PI: 17.2924 nats, reg: 0.0011\n",
      "PI: 17.2925 nats, reg: 0.0012\n",
      "PI: 17.2926 nats, reg: 0.0012\n",
      "PI: 17.2926 nats, reg: 0.0012\n",
      "PI: 17.2927 nats, reg: 0.0013\n",
      "PI: 17.2927 nats, reg: 0.0012\n",
      "PI: 17.2927 nats, reg: 0.0012\n",
      "PI: 17.2928 nats, reg: 0.0011\n",
      "PI: 17.2928 nats, reg: 0.0011\n",
      "PI: 17.2928 nats, reg: 0.0011\n",
      "PI: 17.2928 nats, reg: 0.0011\n",
      "PI: 17.2928 nats, reg: 0.0011\n",
      "PI: 17.2928 nats, reg: 0.0011\n",
      "PI: 17.2928 nats, reg: 0.0011\n",
      "PI: 17.2928 nats, reg: 0.0011\n",
      "PI: 17.2928 nats, reg: 0.0011\n",
      "PI: 17.2928 nats, reg: 0.0011\n",
      "PI: 17.2928 nats, reg: 0.0011\n",
      "PI: 17.2928 nats, reg: 0.0011\n",
      "PI: 17.2928 nats, reg: 0.0011\n",
      "PI: 17.2928 nats, reg: 0.0011\n",
      "PI: 17.2928 nats, reg: 0.0011\n",
      "PI: 17.2928 nats, reg: 0.0011\n",
      "PI: 17.2928 nats, reg: 0.0011\n",
      "PI: 17.2928 nats, reg: 0.0011\n",
      "PI: 17.2928 nats, reg: 0.0012\n",
      "PI: 17.2928 nats, reg: 0.0012\n",
      "PI: 17.2928 nats, reg: 0.0012\n",
      "PI: 17.2928 nats, reg: 0.0012\n",
      "PI: 17.2928 nats, reg: 0.0012\n",
      "PI: 17.2928 nats, reg: 0.0012\n",
      "PI: 17.2928 nats, reg: 0.0012\n",
      "PI: 17.2928 nats, reg: 0.0012\n",
      "PI: 17.2928 nats, reg: 0.0012\n",
      "PI: 17.2928 nats, reg: 0.0012\n",
      "PI: 17.2928 nats, reg: 0.0012\n",
      "PI: 17.2928 nats, reg: 0.0012\n",
      "PI: 17.2928 nats, reg: 0.0011\n",
      "PI: 17.2928 nats, reg: 0.0011\n",
      "PI: 17.2929 nats, reg: 0.001\n",
      "PI: 17.2929 nats, reg: 0.001\n",
      "PI: 17.2929 nats, reg: 0.0011\n",
      "PI: 17.2929 nats, reg: 0.0012\n",
      "PI: 17.293 nats, reg: 0.0012\n",
      "PI: 17.293 nats, reg: 0.0012\n",
      "PI: 17.293 nats, reg: 0.0012\n",
      "PI: 17.293 nats, reg: 0.0012\n",
      "PI: 17.293 nats, reg: 0.0012\n",
      "PI: 17.2931 nats, reg: 0.0011\n",
      "PI: 17.2931 nats, reg: 0.0009\n",
      "PI: 17.2932 nats, reg: 0.0006\n",
      "PI: 17.2933 nats, reg: 0.0006\n",
      "PI: 17.2933 nats, reg: 0.0007\n",
      "PI: 17.2933 nats, reg: 0.0007\n",
      "PI: 17.2933 nats, reg: 0.0007\n",
      "PI: 17.2933 nats, reg: 0.0007\n",
      "PI: 17.2933 nats, reg: 0.0007\n",
      "PI: 17.2933 nats, reg: 0.0007\n",
      "PI: 17.2933 nats, reg: 0.0007\n",
      "PI: 17.2933 nats, reg: 0.0007\n",
      "PI: 17.2933 nats, reg: 0.0007\n",
      "PI: 17.2933 nats, reg: 0.0007\n",
      "PI: 17.2933 nats, reg: 0.0007\n",
      "PI: 17.2933 nats, reg: 0.0007\n",
      "PI: 17.2933 nats, reg: 0.0007\n",
      "PI: 17.2933 nats, reg: 0.0007\n"
     ]
    },
    {
     "data": {
      "text/plain": [
       "<dca_research.dca_l1.L1DynamicalComponentsAnalysis at 0x7f9ab7e4df28>"
      ]
     },
     "execution_count": 8,
     "metadata": {},
     "output_type": "execute_result"
    }
   ],
   "source": [
    "dca_model0 = sDCA(T=10, d=3, verbose=True, init=init)\n",
    "dca_model0.fit(X)"
   ]
  },
  {
   "cell_type": "code",
   "execution_count": 9,
   "metadata": {},
   "outputs": [
    {
     "data": {
      "text/plain": [
       "[<matplotlib.lines.Line2D at 0x7f9ab7df15f8>]"
      ]
     },
     "execution_count": 9,
     "metadata": {},
     "output_type": "execute_result"
    },
    {
     "data": {
      "image/png": "[encoded data removed]",
      "text/plain": [
       "<Figure size 432x288 with 1 Axes>"
      ]
     },
     "metadata": {
      "needs_background": "light"
     },
     "output_type": "display_data"
    }
   ],
   "source": [
    "plt.plot(np.sort(np.sum(dca_model0.coef_**2, axis=1) / 3.)[::-1][:5])"
   ]
  },
  {
   "cell_type": "code",
   "execution_count": 10,
   "metadata": {},
   "outputs": [
    {
     "data": {
      "text/plain": [
       "<matplotlib.image.AxesImage at 0x7f9ab7dccef0>"
      ]
     },
     "execution_count": 10,
     "metadata": {},
     "output_type": "execute_result"
    },
    {
     "data": {
      "image/png": "[encoded data removed]",
      "text/plain": [
       "<Figure size 432x288 with 1 Axes>"
      ]
     },
     "metadata": {
      "needs_background": "light"
     },
     "output_type": "display_data"
    }
   ],
   "source": [
    "plt.imshow(dca_model0.cross_covs[0])"
   ]
  },
  {
   "cell_type": "code",
   "execution_count": 11,
   "metadata": {},
   "outputs": [
    {
     "name": "stdout",
     "output_type": "stream",
     "text": [
      "Warning: non-PSD matrix (had to increase eigenvalues)\n",
      "PI: 16.8523 nats, reg: 0.0\n",
      "PI: 11.1645 nats, reg: 6.5597\n",
      "PI: 13.6083 nats, reg: 25.049\n"
     ]
    },
    {
     "name": "stderr",
     "output_type": "stream",
     "text": [
      "/home/jesse/Development/DCA_research/dca_research/lbfgs/__init__.py:205: UserWarning: The line-search routine reaches the maximum number of evaluations.\n",
      "  return opt.minimize(f, x0, progress=progress, args=args)\n"
     ]
    },
    {
     "data": {
      "text/plain": [
       "<dca_research.dca_l1.L1DynamicalComponentsAnalysis at 0x7f9ab7dd5ba8>"
      ]
     },
     "execution_count": 11,
     "metadata": {},
     "output_type": "execute_result"
    }
   ],
   "source": [
    "dca_model1 = sDCA(T=10, d=3, l1_lambda=10., verbose=True, init=init, ortho_lambda=10.)\n",
    "dca_model1.fit(X)"
   ]
  },
  {
   "cell_type": "code",
   "execution_count": 12,
   "metadata": {},
   "outputs": [
    {
     "data": {
      "text/plain": [
       "[<matplotlib.lines.Line2D at 0x7f9ab7d2efd0>]"
      ]
     },
     "execution_count": 12,
     "metadata": {},
     "output_type": "execute_result"
    },
    {
     "data": {
      "image/png": "[encoded data removed]",
      "text/plain": [
       "<Figure size 432x288 with 1 Axes>"
      ]
     },
     "metadata": {
      "needs_background": "light"
     },
     "output_type": "display_data"
    }
   ],
   "source": [
    "plt.plot(np.sort(np.sum(dca_model1.coef_**2, axis=1) / 3.)[::-1][:5])"
   ]
  },
  {
   "cell_type": "code",
   "execution_count": 13,
   "metadata": {},
   "outputs": [
    {
     "data": {
      "text/plain": [
       "array([[ 0.12669064, -0.47859302,  0.07373931],\n",
       "       [ 0.26938025, -0.07660058, -0.95998262],\n",
       "       [-0.34468303, -0.84255086, -0.02949107],\n",
       "       [ 0.        ,  0.        ,  0.        ],\n",
       "       [ 0.        ,  0.        ,  0.        ],\n",
       "       [ 0.        ,  0.        ,  0.        ],\n",
       "       [ 0.        ,  0.        ,  0.        ],\n",
       "       [-0.89026814,  0.23492365, -0.26856314],\n",
       "       [ 0.        ,  0.        ,  0.        ],\n",
       "       [ 0.        ,  0.        ,  0.        ],\n",
       "       [ 0.        ,  0.        ,  0.        ],\n",
       "       [ 0.        ,  0.        ,  0.        ],\n",
       "       [ 0.        ,  0.        ,  0.        ],\n",
       "       [ 0.        ,  0.        ,  0.        ],\n",
       "       [ 0.        ,  0.        ,  0.        ],\n",
       "       [ 0.        ,  0.        ,  0.        ],\n",
       "       [ 0.        ,  0.        ,  0.        ],\n",
       "       [ 0.        ,  0.        ,  0.        ],\n",
       "       [ 0.        ,  0.        ,  0.        ],\n",
       "       [ 0.        ,  0.        ,  0.        ],\n",
       "       [ 0.        ,  0.        ,  0.        ],\n",
       "       [ 0.        ,  0.        ,  0.        ],\n",
       "       [ 0.        ,  0.        ,  0.        ],\n",
       "       [ 0.        ,  0.        ,  0.        ],\n",
       "       [ 0.        ,  0.        ,  0.        ],\n",
       "       [ 0.        ,  0.        ,  0.        ],\n",
       "       [ 0.        ,  0.        ,  0.        ],\n",
       "       [ 0.        ,  0.        ,  0.        ],\n",
       "       [ 0.        ,  0.        ,  0.        ],\n",
       "       [ 0.        ,  0.        ,  0.        ]])"
      ]
     },
     "execution_count": 13,
     "metadata": {},
     "output_type": "execute_result"
    }
   ],
   "source": [
    "dca_model1.coef_"
   ]
  },
  {
   "cell_type": "code",
   "execution_count": null,
   "metadata": {},
   "outputs": [],
   "source": []
  }
 ],
 "metadata": {
  "kernelspec": {
   "display_name": "Python 3",
   "language": "python",
   "name": "python3"
  },
  "language_info": {
   "codemirror_mode": {
    "name": "ipython",
    "version": 3
   },
   "file_extension": ".py",
   "mimetype": "text/x-python",
   "name": "python",
   "nbconvert_exporter": "python",
   "pygments_lexer": "ipython3",
   "version": "3.6.8"
  }
 },
 "nbformat": 4,
 "nbformat_minor": 2
}
